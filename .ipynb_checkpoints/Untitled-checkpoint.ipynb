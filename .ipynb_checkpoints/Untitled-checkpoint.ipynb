{
 "cells": [
  {
   "cell_type": "code",
   "execution_count": 5,
   "id": "3ad5061f",
   "metadata": {},
   "outputs": [],
   "source": [
    "import sklearn\n",
    "import matplotlib.pyplot as plt\n",
    "import numpy as np"
   ]
  },
  {
   "cell_type": "code",
   "execution_count": 594,
   "id": "2efd23e4",
   "metadata": {},
   "outputs": [],
   "source": [
    "y = np.load('joint1_nn_y_1.npy')\n",
    "X = np.load('joint1_nn_x_1.npy')\n",
    "y=y[:,0]"
   ]
  },
  {
   "cell_type": "markdown",
   "id": "ed94a609",
   "metadata": {},
   "source": [
    "### remove outliers"
   ]
  },
  {
   "cell_type": "code",
   "execution_count": 595,
   "id": "491fa0b5",
   "metadata": {},
   "outputs": [
    {
     "data": {
      "text/html": [
       "<style>#sk-container-id-68 {color: black;background-color: white;}#sk-container-id-68 pre{padding: 0;}#sk-container-id-68 div.sk-toggleable {background-color: white;}#sk-container-id-68 label.sk-toggleable__label {cursor: pointer;display: block;width: 100%;margin-bottom: 0;padding: 0.3em;box-sizing: border-box;text-align: center;}#sk-container-id-68 label.sk-toggleable__label-arrow:before {content: \"▸\";float: left;margin-right: 0.25em;color: #696969;}#sk-container-id-68 label.sk-toggleable__label-arrow:hover:before {color: black;}#sk-container-id-68 div.sk-estimator:hover label.sk-toggleable__label-arrow:before {color: black;}#sk-container-id-68 div.sk-toggleable__content {max-height: 0;max-width: 0;overflow: hidden;text-align: left;background-color: #f0f8ff;}#sk-container-id-68 div.sk-toggleable__content pre {margin: 0.2em;color: black;border-radius: 0.25em;background-color: #f0f8ff;}#sk-container-id-68 input.sk-toggleable__control:checked~div.sk-toggleable__content {max-height: 200px;max-width: 100%;overflow: auto;}#sk-container-id-68 input.sk-toggleable__control:checked~label.sk-toggleable__label-arrow:before {content: \"▾\";}#sk-container-id-68 div.sk-estimator input.sk-toggleable__control:checked~label.sk-toggleable__label {background-color: #d4ebff;}#sk-container-id-68 div.sk-label input.sk-toggleable__control:checked~label.sk-toggleable__label {background-color: #d4ebff;}#sk-container-id-68 input.sk-hidden--visually {border: 0;clip: rect(1px 1px 1px 1px);clip: rect(1px, 1px, 1px, 1px);height: 1px;margin: -1px;overflow: hidden;padding: 0;position: absolute;width: 1px;}#sk-container-id-68 div.sk-estimator {font-family: monospace;background-color: #f0f8ff;border: 1px dotted black;border-radius: 0.25em;box-sizing: border-box;margin-bottom: 0.5em;}#sk-container-id-68 div.sk-estimator:hover {background-color: #d4ebff;}#sk-container-id-68 div.sk-parallel-item::after {content: \"\";width: 100%;border-bottom: 1px solid gray;flex-grow: 1;}#sk-container-id-68 div.sk-label:hover label.sk-toggleable__label {background-color: #d4ebff;}#sk-container-id-68 div.sk-serial::before {content: \"\";position: absolute;border-left: 1px solid gray;box-sizing: border-box;top: 0;bottom: 0;left: 50%;z-index: 0;}#sk-container-id-68 div.sk-serial {display: flex;flex-direction: column;align-items: center;background-color: white;padding-right: 0.2em;padding-left: 0.2em;position: relative;}#sk-container-id-68 div.sk-item {position: relative;z-index: 1;}#sk-container-id-68 div.sk-parallel {display: flex;align-items: stretch;justify-content: center;background-color: white;position: relative;}#sk-container-id-68 div.sk-item::before, #sk-container-id-68 div.sk-parallel-item::before {content: \"\";position: absolute;border-left: 1px solid gray;box-sizing: border-box;top: 0;bottom: 0;left: 50%;z-index: -1;}#sk-container-id-68 div.sk-parallel-item {display: flex;flex-direction: column;z-index: 1;position: relative;background-color: white;}#sk-container-id-68 div.sk-parallel-item:first-child::after {align-self: flex-end;width: 50%;}#sk-container-id-68 div.sk-parallel-item:last-child::after {align-self: flex-start;width: 50%;}#sk-container-id-68 div.sk-parallel-item:only-child::after {width: 0;}#sk-container-id-68 div.sk-dashed-wrapped {border: 1px dashed gray;margin: 0 0.4em 0.5em 0.4em;box-sizing: border-box;padding-bottom: 0.4em;background-color: white;}#sk-container-id-68 div.sk-label label {font-family: monospace;font-weight: bold;display: inline-block;line-height: 1.2em;}#sk-container-id-68 div.sk-label-container {text-align: center;}#sk-container-id-68 div.sk-container {/* jupyter's `normalize.less` sets `[hidden] { display: none; }` but bootstrap.min.css set `[hidden] { display: none !important; }` so we also need the `!important` here to be able to override the default hidden behavior on the sphinx rendered scikit-learn.org. See: https://github.com/scikit-learn/scikit-learn/issues/21755 */display: inline-block !important;position: relative;}#sk-container-id-68 div.sk-text-repr-fallback {display: none;}</style><div id=\"sk-container-id-68\" class=\"sk-top-container\"><div class=\"sk-text-repr-fallback\"><pre>IsolationForest(n_estimators=10, warm_start=True)</pre><b>In a Jupyter environment, please rerun this cell to show the HTML representation or trust the notebook. <br />On GitHub, the HTML representation is unable to render, please try loading this page with nbviewer.org.</b></div><div class=\"sk-container\" hidden><div class=\"sk-item\"><div class=\"sk-estimator sk-toggleable\"><input class=\"sk-toggleable__control sk-hidden--visually\" id=\"sk-estimator-id-207\" type=\"checkbox\" checked><label for=\"sk-estimator-id-207\" class=\"sk-toggleable__label sk-toggleable__label-arrow\">IsolationForest</label><div class=\"sk-toggleable__content\"><pre>IsolationForest(n_estimators=10, warm_start=True)</pre></div></div></div></div></div>"
      ],
      "text/plain": [
       "IsolationForest(n_estimators=10, warm_start=True)"
      ]
     },
     "execution_count": 595,
     "metadata": {},
     "output_type": "execute_result"
    }
   ],
   "source": [
    "from sklearn.ensemble import IsolationForest\n",
    "import numpy as np\n",
    "clf = IsolationForest(n_estimators=10, warm_start=True)\n",
    "clf.fit(X)  # fit 10 trees  \n",
    "# clf.set_params(n_estimators=10)  # add 10 more trees  \n",
    "# clf.fit(X)  # fit the added trees  "
   ]
  },
  {
   "cell_type": "code",
   "execution_count": 596,
   "id": "beea5ca0",
   "metadata": {},
   "outputs": [],
   "source": [
    "inlier_index = clf.predict(X)"
   ]
  },
  {
   "cell_type": "code",
   "execution_count": 597,
   "id": "a22c9191",
   "metadata": {},
   "outputs": [],
   "source": [
    "X = X[inlier_index==1]"
   ]
  },
  {
   "cell_type": "code",
   "execution_count": 598,
   "id": "0f337850",
   "metadata": {},
   "outputs": [],
   "source": [
    "y = y[inlier_index==1]"
   ]
  },
  {
   "cell_type": "markdown",
   "id": "d28a68c6",
   "metadata": {},
   "source": [
    "### Train MLP regression"
   ]
  },
  {
   "cell_type": "code",
   "execution_count": 599,
   "id": "bf0ee60e",
   "metadata": {},
   "outputs": [
    {
     "data": {
      "text/plain": [
       "0.9761895666686743"
      ]
     },
     "execution_count": 599,
     "metadata": {},
     "output_type": "execute_result"
    }
   ],
   "source": [
    "from sklearn.neural_network import MLPRegressor\n",
    "from sklearn.datasets import make_regression\n",
    "from sklearn.model_selection import train_test_split\n",
    "X_train, X_test, y_train, y_test = train_test_split(X, y,\n",
    "                                                    random_state=1)\n",
    "regr = MLPRegressor(hidden_layer_sizes=(20,10,),random_state=1, max_iter=int(1e6)).fit(X_train, y_train)\n",
    "regr.predict(X_test[:2])\n",
    "regr.score(X_test, y_test)"
   ]
  },
  {
   "cell_type": "code",
   "execution_count": 600,
   "id": "9db3017e",
   "metadata": {},
   "outputs": [
    {
     "data": {
      "text/plain": [
       "0.9721839365703718"
      ]
     },
     "execution_count": 600,
     "metadata": {},
     "output_type": "execute_result"
    }
   ],
   "source": [
    "X_train, X_test, y_train, y_test = train_test_split(X, y,\n",
    "                                                    random_state=1)\n",
    "regr = MLPRegressor(hidden_layer_sizes=(200,),random_state=1, learning_rate_init=0.1, epsilon=0.5,max_iter=int(1e6)).fit(X_train, y_train)\n",
    "regr.predict(X_test[:2])\n",
    "regr.score(X_test, y_test)"
   ]
  },
  {
   "cell_type": "code",
   "execution_count": 601,
   "id": "0d04a223",
   "metadata": {},
   "outputs": [
    {
     "data": {
      "text/plain": [
       "array([57.01426996, 62.83421489, 80.48228879, 39.20067689, 42.22786391,\n",
       "       79.90403872, 61.11375927, 39.33754441, 62.45452318, 82.84544069,\n",
       "       45.90315834, 38.54218966, 61.7242095 , 51.09484024, 57.12682156,\n",
       "       70.76756442, 70.35943495, 54.14831229, 69.05426048, 57.10264239,\n",
       "       45.64722926, 75.75062071, 74.01233667, 56.54939586, 83.39882494,\n",
       "       77.77563726, 58.52144483, 65.28901325, 60.57895944, 37.92451938,\n",
       "       70.03711397, 50.54173046, 38.21464116, 43.70105313, 37.79505554,\n",
       "       39.83196291, 47.8078543 , 49.04401827, 56.66609861, 37.89421995,\n",
       "       54.83570221, 72.79118423, 56.28723127, 51.12669659, 70.74453095,\n",
       "       32.98161585, 71.00490909, 58.68762722, 36.45864202, 73.80190215,\n",
       "       38.78136573, 64.41715443, 72.05706224, 78.32013025, 43.07300305,\n",
       "       60.43313132, 73.6193115 , 34.6801134 , 40.56844276, 37.79505554,\n",
       "       65.15200802, 73.48838158, 58.64983327, 79.98759582, 61.28534595,\n",
       "       70.87289596, 72.31473186, 77.7582894 , 71.47627069, 59.67966988,\n",
       "       75.88288584, 65.10371998, 38.16635217, 61.62618982, 61.66954824,\n",
       "       46.3451826 , 56.75187681, 38.90384   , 76.5716725 , 67.69124156,\n",
       "       74.07506482, 45.80777195, 57.94504959, 51.96743163, 58.59884165,\n",
       "       38.39915598, 70.58348426, 44.60529477, 64.19796636, 53.74749469,\n",
       "       47.85641777, 80.31324454, 48.14864541, 52.23172455, 36.99742693,\n",
       "       71.72089695, 48.90651   , 47.11168741, 53.7509592 , 50.03846565,\n",
       "       80.49118005, 61.65137601, 39.5807124 , 48.85333729, 71.28913822,\n",
       "       60.03302381, 71.27983477, 34.60902046, 51.26625016, 49.43285419,\n",
       "       83.21983554, 69.8225283 , 80.93299821, 80.26754293, 78.77815154,\n",
       "       64.09661894, 56.16620059, 76.18911798, 67.56424985, 42.16332684,\n",
       "       58.7135235 , 60.41612726, 68.35635304, 81.20196971, 52.41814105,\n",
       "       70.84553457, 74.90814514, 56.91079324, 87.90726807, 31.02721169,\n",
       "       41.95126702, 53.12049658, 53.40046712, 59.00841375, 78.26549147,\n",
       "       68.98683717, 51.74422916, 53.77836649, 56.14158581, 38.76635421,\n",
       "       52.73766856, 72.0958876 , 45.85738835, 61.75737173, 67.19494576,\n",
       "       86.55270576, 65.99143812, 57.37482051, 71.40668877, 54.13843648,\n",
       "       56.8057137 , 40.45009128, 66.53056684, 61.53871013, 67.57078326,\n",
       "       73.57116022, 57.08600461, 61.77864219, 72.40828591, 49.55537245,\n",
       "       45.33565436, 40.00831902, 83.15103208, 68.72306975, 39.25403322,\n",
       "       43.63875964, 60.24217492, 58.51166083, 58.51303413, 57.74974183,\n",
       "       44.47642673, 69.81306371, 69.46211451, 61.07369831, 51.64572796,\n",
       "       59.38464192])"
      ]
     },
     "execution_count": 601,
     "metadata": {},
     "output_type": "execute_result"
    }
   ],
   "source": [
    "regr.predict(X_test)"
   ]
  },
  {
   "cell_type": "code",
   "execution_count": 602,
   "id": "44cc9d7d",
   "metadata": {},
   "outputs": [
    {
     "data": {
      "text/plain": [
       "array([ 1.,  2., -2.,  2.,  1.,  4., -1.,  2., -2.,  1.,  1., -0., -4.,\n",
       "        2., -1., -0., -4.,  0., -1.,  1.,  2., -2.,  0., -1., -2.,  2.,\n",
       "       -1., -2., -1.,  1.,  0., -0., -2.,  2., -4., -2., -2.,  0., -1.,\n",
       "        2., -3.,  5., -1.,  1.,  3., -2.,  3., -1.,  0., -4.,  3.,  0.,\n",
       "       -4., -3., -3.,  1.,  1., -0.,  2., -2., -2.,  2., -0., -3., -1.,\n",
       "       -2., -2.,  3.,  0., -0.,  3.,  1., -1., -0., -0., -2., -0., -3.,\n",
       "        3.,  1., -3.,  1., -0., -3., -0., -4., -1.,  1.,  1., -1., -1.,\n",
       "        5., -2.,  3.,  1., -1.,  3., -3., -0., -1., -7.,  1., -4., -2.,\n",
       "       -2.,  0.,  0., -2., -1., -4.,  1.,  2., -4., -2., -1., -4., -3.,\n",
       "        0., -0., -2., -0.,  2., -1., -4., -2.,  2., -1.,  1.,  4., -1.,\n",
       "       -1.,  3.,  0.,  0., -7.,  2.,  3., -3.,  2., -1., -0.,  1., -0.,\n",
       "        1.,  1.,  5., -1., -2.,  4., -2., -2.,  2.,  3., -0.,  4., -0.,\n",
       "       -1.,  3., -5.,  5., -2.,  0.,  0., -3., -3., -2., -3.,  2.,  1.,\n",
       "       -1., -5., -1., -2.,  3., -1.,  0.])"
      ]
     },
     "execution_count": 602,
     "metadata": {},
     "output_type": "execute_result"
    }
   ],
   "source": [
    "np.round(regr.predict(X_test)-y_test)\n"
   ]
  },
  {
   "cell_type": "code",
   "execution_count": 603,
   "id": "533baf0b",
   "metadata": {},
   "outputs": [
    {
     "data": {
      "text/plain": [
       "array([71.31611277])"
      ]
     },
     "execution_count": 603,
     "metadata": {},
     "output_type": "execute_result"
    }
   ],
   "source": [
    "regr.predict(np.array([[ 33,  76, 916]]))"
   ]
  },
  {
   "cell_type": "markdown",
   "id": "fe994232",
   "metadata": {},
   "source": [
    "### Train SVM Regression model"
   ]
  },
  {
   "cell_type": "code",
   "execution_count": 604,
   "id": "313b3b3d",
   "metadata": {},
   "outputs": [
    {
     "data": {
      "text/html": [
       "<style>#sk-container-id-69 {color: black;background-color: white;}#sk-container-id-69 pre{padding: 0;}#sk-container-id-69 div.sk-toggleable {background-color: white;}#sk-container-id-69 label.sk-toggleable__label {cursor: pointer;display: block;width: 100%;margin-bottom: 0;padding: 0.3em;box-sizing: border-box;text-align: center;}#sk-container-id-69 label.sk-toggleable__label-arrow:before {content: \"▸\";float: left;margin-right: 0.25em;color: #696969;}#sk-container-id-69 label.sk-toggleable__label-arrow:hover:before {color: black;}#sk-container-id-69 div.sk-estimator:hover label.sk-toggleable__label-arrow:before {color: black;}#sk-container-id-69 div.sk-toggleable__content {max-height: 0;max-width: 0;overflow: hidden;text-align: left;background-color: #f0f8ff;}#sk-container-id-69 div.sk-toggleable__content pre {margin: 0.2em;color: black;border-radius: 0.25em;background-color: #f0f8ff;}#sk-container-id-69 input.sk-toggleable__control:checked~div.sk-toggleable__content {max-height: 200px;max-width: 100%;overflow: auto;}#sk-container-id-69 input.sk-toggleable__control:checked~label.sk-toggleable__label-arrow:before {content: \"▾\";}#sk-container-id-69 div.sk-estimator input.sk-toggleable__control:checked~label.sk-toggleable__label {background-color: #d4ebff;}#sk-container-id-69 div.sk-label input.sk-toggleable__control:checked~label.sk-toggleable__label {background-color: #d4ebff;}#sk-container-id-69 input.sk-hidden--visually {border: 0;clip: rect(1px 1px 1px 1px);clip: rect(1px, 1px, 1px, 1px);height: 1px;margin: -1px;overflow: hidden;padding: 0;position: absolute;width: 1px;}#sk-container-id-69 div.sk-estimator {font-family: monospace;background-color: #f0f8ff;border: 1px dotted black;border-radius: 0.25em;box-sizing: border-box;margin-bottom: 0.5em;}#sk-container-id-69 div.sk-estimator:hover {background-color: #d4ebff;}#sk-container-id-69 div.sk-parallel-item::after {content: \"\";width: 100%;border-bottom: 1px solid gray;flex-grow: 1;}#sk-container-id-69 div.sk-label:hover label.sk-toggleable__label {background-color: #d4ebff;}#sk-container-id-69 div.sk-serial::before {content: \"\";position: absolute;border-left: 1px solid gray;box-sizing: border-box;top: 0;bottom: 0;left: 50%;z-index: 0;}#sk-container-id-69 div.sk-serial {display: flex;flex-direction: column;align-items: center;background-color: white;padding-right: 0.2em;padding-left: 0.2em;position: relative;}#sk-container-id-69 div.sk-item {position: relative;z-index: 1;}#sk-container-id-69 div.sk-parallel {display: flex;align-items: stretch;justify-content: center;background-color: white;position: relative;}#sk-container-id-69 div.sk-item::before, #sk-container-id-69 div.sk-parallel-item::before {content: \"\";position: absolute;border-left: 1px solid gray;box-sizing: border-box;top: 0;bottom: 0;left: 50%;z-index: -1;}#sk-container-id-69 div.sk-parallel-item {display: flex;flex-direction: column;z-index: 1;position: relative;background-color: white;}#sk-container-id-69 div.sk-parallel-item:first-child::after {align-self: flex-end;width: 50%;}#sk-container-id-69 div.sk-parallel-item:last-child::after {align-self: flex-start;width: 50%;}#sk-container-id-69 div.sk-parallel-item:only-child::after {width: 0;}#sk-container-id-69 div.sk-dashed-wrapped {border: 1px dashed gray;margin: 0 0.4em 0.5em 0.4em;box-sizing: border-box;padding-bottom: 0.4em;background-color: white;}#sk-container-id-69 div.sk-label label {font-family: monospace;font-weight: bold;display: inline-block;line-height: 1.2em;}#sk-container-id-69 div.sk-label-container {text-align: center;}#sk-container-id-69 div.sk-container {/* jupyter's `normalize.less` sets `[hidden] { display: none; }` but bootstrap.min.css set `[hidden] { display: none !important; }` so we also need the `!important` here to be able to override the default hidden behavior on the sphinx rendered scikit-learn.org. See: https://github.com/scikit-learn/scikit-learn/issues/21755 */display: inline-block !important;position: relative;}#sk-container-id-69 div.sk-text-repr-fallback {display: none;}</style><div id=\"sk-container-id-69\" class=\"sk-top-container\"><div class=\"sk-text-repr-fallback\"><pre>Pipeline(steps=[(&#x27;standardscaler&#x27;, StandardScaler()), (&#x27;svr&#x27;, SVR(C=5))])</pre><b>In a Jupyter environment, please rerun this cell to show the HTML representation or trust the notebook. <br />On GitHub, the HTML representation is unable to render, please try loading this page with nbviewer.org.</b></div><div class=\"sk-container\" hidden><div class=\"sk-item sk-dashed-wrapped\"><div class=\"sk-label-container\"><div class=\"sk-label sk-toggleable\"><input class=\"sk-toggleable__control sk-hidden--visually\" id=\"sk-estimator-id-208\" type=\"checkbox\" ><label for=\"sk-estimator-id-208\" class=\"sk-toggleable__label sk-toggleable__label-arrow\">Pipeline</label><div class=\"sk-toggleable__content\"><pre>Pipeline(steps=[(&#x27;standardscaler&#x27;, StandardScaler()), (&#x27;svr&#x27;, SVR(C=5))])</pre></div></div></div><div class=\"sk-serial\"><div class=\"sk-item\"><div class=\"sk-estimator sk-toggleable\"><input class=\"sk-toggleable__control sk-hidden--visually\" id=\"sk-estimator-id-209\" type=\"checkbox\" ><label for=\"sk-estimator-id-209\" class=\"sk-toggleable__label sk-toggleable__label-arrow\">StandardScaler</label><div class=\"sk-toggleable__content\"><pre>StandardScaler()</pre></div></div></div><div class=\"sk-item\"><div class=\"sk-estimator sk-toggleable\"><input class=\"sk-toggleable__control sk-hidden--visually\" id=\"sk-estimator-id-210\" type=\"checkbox\" ><label for=\"sk-estimator-id-210\" class=\"sk-toggleable__label sk-toggleable__label-arrow\">SVR</label><div class=\"sk-toggleable__content\"><pre>SVR(C=5)</pre></div></div></div></div></div></div></div>"
      ],
      "text/plain": [
       "Pipeline(steps=[('standardscaler', StandardScaler()), ('svr', SVR(C=5))])"
      ]
     },
     "execution_count": 604,
     "metadata": {},
     "output_type": "execute_result"
    }
   ],
   "source": [
    "from sklearn.svm import LinearSVR\n",
    "from sklearn.svm import SVR\n",
    "from sklearn.preprocessing import StandardScaler\n",
    "from sklearn.datasets import make_regression\n",
    "from sklearn.pipeline import make_pipeline\n",
    "X_train, X_test, y_train, y_test =  train_test_split(X, y,test_size=0.25)\n",
    "regr =make_pipeline(StandardScaler(), SVR(C=5, epsilon=0.1))\n",
    "regr.fit(X_train, y_train)"
   ]
  },
  {
   "cell_type": "code",
   "execution_count": 605,
   "id": "b0b6eff8",
   "metadata": {},
   "outputs": [
    {
     "data": {
      "text/plain": [
       "0.9859036678519816"
      ]
     },
     "execution_count": 605,
     "metadata": {},
     "output_type": "execute_result"
    }
   ],
   "source": [
    "regr.score(X_test, y_test)"
   ]
  },
  {
   "cell_type": "code",
   "execution_count": 606,
   "id": "4dc519fe",
   "metadata": {},
   "outputs": [
    {
     "data": {
      "text/plain": [
       "array([36., 41., 68., 70., 67., 39., 72., 48., 74., 75., 49., 42., 37.,\n",
       "       38., 53., 59., 39., 50., 54., 67., 36., 60., 49., 69., 63., 64.,\n",
       "       74., 72., 62., 69., 71., 48., 58., 63., 77., 71., 56., 52., 45.,\n",
       "       44., 55., 59., 70., 78., 57., 82., 71., 80., 56., 68., 67., 59.,\n",
       "       35., 52., 53., 35., 35., 47., 73., 35., 36., 66., 53., 71., 49.,\n",
       "       35., 77., 86., 51., 82., 75., 77., 59., 36., 62., 38., 45., 62.,\n",
       "       40., 44., 72., 65., 36., 72., 55., 54., 53., 46., 64., 46., 66.,\n",
       "       63., 80., 37., 60., 77., 77., 59., 38., 45., 38., 44., 63., 57.,\n",
       "       43., 59., 50., 39., 60., 68., 82., 53., 59., 81., 71., 42., 77.,\n",
       "       52., 70., 79., 78., 58., 73., 45., 80., 45., 76., 59., 41., 62.,\n",
       "       47., 69., 37., 62., 67., 42., 67., 63., 58., 44., 49., 52., 62.,\n",
       "       46., 60., 51., 43., 70., 63., 41., 48., 63., 37., 36., 37., 36.,\n",
       "       61., 80., 68., 61., 43., 48., 62., 56., 45., 80., 83., 50., 72.,\n",
       "       58., 57., 78., 43., 54., 71., 42.])"
      ]
     },
     "execution_count": 606,
     "metadata": {},
     "output_type": "execute_result"
    }
   ],
   "source": [
    "np.round(regr.predict(X_test))"
   ]
  },
  {
   "cell_type": "code",
   "execution_count": 607,
   "id": "166d9313",
   "metadata": {},
   "outputs": [
    {
     "data": {
      "text/plain": [
       "array([ 1.,  0.,  3., -1.,  0., -3.,  3.,  0., -1., -1.,  1.,  0.,  0.,\n",
       "       -1., -3.,  1., -2., -3.,  1., -2.,  0., -2.,  0.,  0.,  2., -1.,\n",
       "       -2.,  1.,  0.,  0., -3., -2., -2.,  1., -1., -2., -2., -1.,  3.,\n",
       "        0.,  2.,  2., -1.,  0.,  0.,  0.,  0., -1.,  2., -2.,  0.,  0.,\n",
       "        0.,  0.,  1., -3.,  2., -1., -1., -2., -4.,  3.,  1.,  2.,  2.,\n",
       "        0.,  2., -2.,  0.,  0.,  0.,  1.,  0.,  0.,  0., -2., -2.,  0.,\n",
       "        2.,  2.,  2.,  2., -1.,  2., -1., -1.,  0.,  2.,  1.,  2.,  1.,\n",
       "       -3.,  2.,  2.,  1.,  1.,  0.,  1., -1., -2.,  1., -1.,  3.,  1.,\n",
       "        1.,  1., -1.,  1.,  1.,  3.,  4., -1., -2.,  0., -2.,  1., -1.,\n",
       "       -2.,  1.,  4., -1., -3., -1.,  0.,  2., -3.,  2.,  0., -2., -2.,\n",
       "        2.,  1., -1.,  0.,  0.,  1.,  0., -1., -2.,  0.,  1., -2., -2.,\n",
       "        0.,  2.,  1.,  0., -2., -2., -4., -1.,  2., -2., -4., -1.,  0.,\n",
       "       -1.,  1.,  2.,  1.,  2.,  2., -2.,  1., -3.,  1., -3.,  0.,  1.,\n",
       "        0.,  1.,  0.,  1.,  0., -3., -2.])"
      ]
     },
     "execution_count": 607,
     "metadata": {},
     "output_type": "execute_result"
    }
   ],
   "source": [
    "y_test-np.round(regr.predict(X_test))"
   ]
  },
  {
   "cell_type": "code",
   "execution_count": 608,
   "id": "e47eec57",
   "metadata": {},
   "outputs": [
    {
     "data": {
      "text/plain": [
       "array([59.06724852])"
      ]
     },
     "execution_count": 608,
     "metadata": {},
     "output_type": "execute_result"
    }
   ],
   "source": [
    "regr.predict(np.array([[ 33,  76, 916]]))"
   ]
  },
  {
   "cell_type": "code",
   "execution_count": 609,
   "id": "c8ea904b",
   "metadata": {},
   "outputs": [
    {
     "data": {
      "text/plain": [
       "0.979627765155458"
      ]
     },
     "execution_count": 609,
     "metadata": {},
     "output_type": "execute_result"
    }
   ],
   "source": [
    "from sklearn.ensemble import RandomForestRegressor\n",
    "from sklearn.datasets import make_regression\n",
    "regr = RandomForestRegressor(n_estimators=10,min_samples_split=5,min_samples_leaf=3)\n",
    "regr.fit(X_train, y_train)\n",
    "regr.score(X_test, y_test)"
   ]
  },
  {
   "cell_type": "code",
   "execution_count": 245,
   "id": "c31a606e",
   "metadata": {},
   "outputs": [
    {
     "data": {
      "text/plain": [
       "array([ 1.,  2., -2.,  1., -3.,  0., -2., -2.,  0.,  2., -2., -1., -1.,\n",
       "        1.,  2.,  3., -2.,  0., -2., -1., -2.,  3.,  2.,  2., -1.,  0.,\n",
       "       -1., -1.,  2.,  1.,  1.,  0., -1., -1.,  2.,  3.,  1., -1., -1.,\n",
       "       -2., -3.,  0.,  1., -3., -2., -1.,  1., -1.,  0., -1., -4.,  2.,\n",
       "       -2.,  1.,  1., -1.,  2., -1.,  2.,  0.,  2.,  0., -2.,  0., -3.,\n",
       "        2.,  0.,  1., -2.,  1., -1.,  2.,  0.,  1.,  2.,  1.,  0.,  0.,\n",
       "       -3.,  1., -2., -2., -2.,  3., -3.,  3.,  1., -1., -1., -3., -2.,\n",
       "        2.,  0.,  0.,  1.,  3.,  1.,  0., -1.,  4., -3., -1.,  0.,  2.,\n",
       "       -1.,  1., -3., -1., -1., -2.,  1.,  3., -3.,  0.,  3., -1.,  0.,\n",
       "       -4., -2., -2.,  3., -2.,  5.,  2.,  0., -1.])"
      ]
     },
     "execution_count": 245,
     "metadata": {},
     "output_type": "execute_result"
    }
   ],
   "source": [
    "y_test-np.round(regr.predict(X_test))"
   ]
  },
  {
   "cell_type": "code",
   "execution_count": 246,
   "id": "0247ee7d",
   "metadata": {},
   "outputs": [
    {
     "data": {
      "text/plain": [
       "array([58.31051587])"
      ]
     },
     "execution_count": 246,
     "metadata": {},
     "output_type": "execute_result"
    }
   ],
   "source": [
    "regr.predict(np.array([[ 33,  76, 916]]))"
   ]
  },
  {
   "cell_type": "code",
   "execution_count": 247,
   "id": "a176f405",
   "metadata": {},
   "outputs": [
    {
     "data": {
      "text/html": [
       "<style>#sk-container-id-27 {color: black;background-color: white;}#sk-container-id-27 pre{padding: 0;}#sk-container-id-27 div.sk-toggleable {background-color: white;}#sk-container-id-27 label.sk-toggleable__label {cursor: pointer;display: block;width: 100%;margin-bottom: 0;padding: 0.3em;box-sizing: border-box;text-align: center;}#sk-container-id-27 label.sk-toggleable__label-arrow:before {content: \"▸\";float: left;margin-right: 0.25em;color: #696969;}#sk-container-id-27 label.sk-toggleable__label-arrow:hover:before {color: black;}#sk-container-id-27 div.sk-estimator:hover label.sk-toggleable__label-arrow:before {color: black;}#sk-container-id-27 div.sk-toggleable__content {max-height: 0;max-width: 0;overflow: hidden;text-align: left;background-color: #f0f8ff;}#sk-container-id-27 div.sk-toggleable__content pre {margin: 0.2em;color: black;border-radius: 0.25em;background-color: #f0f8ff;}#sk-container-id-27 input.sk-toggleable__control:checked~div.sk-toggleable__content {max-height: 200px;max-width: 100%;overflow: auto;}#sk-container-id-27 input.sk-toggleable__control:checked~label.sk-toggleable__label-arrow:before {content: \"▾\";}#sk-container-id-27 div.sk-estimator input.sk-toggleable__control:checked~label.sk-toggleable__label {background-color: #d4ebff;}#sk-container-id-27 div.sk-label input.sk-toggleable__control:checked~label.sk-toggleable__label {background-color: #d4ebff;}#sk-container-id-27 input.sk-hidden--visually {border: 0;clip: rect(1px 1px 1px 1px);clip: rect(1px, 1px, 1px, 1px);height: 1px;margin: -1px;overflow: hidden;padding: 0;position: absolute;width: 1px;}#sk-container-id-27 div.sk-estimator {font-family: monospace;background-color: #f0f8ff;border: 1px dotted black;border-radius: 0.25em;box-sizing: border-box;margin-bottom: 0.5em;}#sk-container-id-27 div.sk-estimator:hover {background-color: #d4ebff;}#sk-container-id-27 div.sk-parallel-item::after {content: \"\";width: 100%;border-bottom: 1px solid gray;flex-grow: 1;}#sk-container-id-27 div.sk-label:hover label.sk-toggleable__label {background-color: #d4ebff;}#sk-container-id-27 div.sk-serial::before {content: \"\";position: absolute;border-left: 1px solid gray;box-sizing: border-box;top: 0;bottom: 0;left: 50%;z-index: 0;}#sk-container-id-27 div.sk-serial {display: flex;flex-direction: column;align-items: center;background-color: white;padding-right: 0.2em;padding-left: 0.2em;position: relative;}#sk-container-id-27 div.sk-item {position: relative;z-index: 1;}#sk-container-id-27 div.sk-parallel {display: flex;align-items: stretch;justify-content: center;background-color: white;position: relative;}#sk-container-id-27 div.sk-item::before, #sk-container-id-27 div.sk-parallel-item::before {content: \"\";position: absolute;border-left: 1px solid gray;box-sizing: border-box;top: 0;bottom: 0;left: 50%;z-index: -1;}#sk-container-id-27 div.sk-parallel-item {display: flex;flex-direction: column;z-index: 1;position: relative;background-color: white;}#sk-container-id-27 div.sk-parallel-item:first-child::after {align-self: flex-end;width: 50%;}#sk-container-id-27 div.sk-parallel-item:last-child::after {align-self: flex-start;width: 50%;}#sk-container-id-27 div.sk-parallel-item:only-child::after {width: 0;}#sk-container-id-27 div.sk-dashed-wrapped {border: 1px dashed gray;margin: 0 0.4em 0.5em 0.4em;box-sizing: border-box;padding-bottom: 0.4em;background-color: white;}#sk-container-id-27 div.sk-label label {font-family: monospace;font-weight: bold;display: inline-block;line-height: 1.2em;}#sk-container-id-27 div.sk-label-container {text-align: center;}#sk-container-id-27 div.sk-container {/* jupyter's `normalize.less` sets `[hidden] { display: none; }` but bootstrap.min.css set `[hidden] { display: none !important; }` so we also need the `!important` here to be able to override the default hidden behavior on the sphinx rendered scikit-learn.org. See: https://github.com/scikit-learn/scikit-learn/issues/21755 */display: inline-block !important;position: relative;}#sk-container-id-27 div.sk-text-repr-fallback {display: none;}</style><div id=\"sk-container-id-27\" class=\"sk-top-container\"><div class=\"sk-text-repr-fallback\"><pre>Pipeline(steps=[(&#x27;standardscaler&#x27;, StandardScaler()),\n",
       "                (&#x27;svr&#x27;, SVR(C=10, epsilon=1))])</pre><b>In a Jupyter environment, please rerun this cell to show the HTML representation or trust the notebook. <br />On GitHub, the HTML representation is unable to render, please try loading this page with nbviewer.org.</b></div><div class=\"sk-container\" hidden><div class=\"sk-item sk-dashed-wrapped\"><div class=\"sk-label-container\"><div class=\"sk-label sk-toggleable\"><input class=\"sk-toggleable__control sk-hidden--visually\" id=\"sk-estimator-id-71\" type=\"checkbox\" ><label for=\"sk-estimator-id-71\" class=\"sk-toggleable__label sk-toggleable__label-arrow\">Pipeline</label><div class=\"sk-toggleable__content\"><pre>Pipeline(steps=[(&#x27;standardscaler&#x27;, StandardScaler()),\n",
       "                (&#x27;svr&#x27;, SVR(C=10, epsilon=1))])</pre></div></div></div><div class=\"sk-serial\"><div class=\"sk-item\"><div class=\"sk-estimator sk-toggleable\"><input class=\"sk-toggleable__control sk-hidden--visually\" id=\"sk-estimator-id-72\" type=\"checkbox\" ><label for=\"sk-estimator-id-72\" class=\"sk-toggleable__label sk-toggleable__label-arrow\">StandardScaler</label><div class=\"sk-toggleable__content\"><pre>StandardScaler()</pre></div></div></div><div class=\"sk-item\"><div class=\"sk-estimator sk-toggleable\"><input class=\"sk-toggleable__control sk-hidden--visually\" id=\"sk-estimator-id-73\" type=\"checkbox\" ><label for=\"sk-estimator-id-73\" class=\"sk-toggleable__label sk-toggleable__label-arrow\">SVR</label><div class=\"sk-toggleable__content\"><pre>SVR(C=10, epsilon=1)</pre></div></div></div></div></div></div></div>"
      ],
      "text/plain": [
       "Pipeline(steps=[('standardscaler', StandardScaler()),\n",
       "                ('svr', SVR(C=10, epsilon=1))])"
      ]
     },
     "execution_count": 247,
     "metadata": {},
     "output_type": "execute_result"
    }
   ],
   "source": [
    "from sklearn.svm import LinearSVR\n",
    "from sklearn.svm import SVR\n",
    "from sklearn.preprocessing import StandardScaler\n",
    "from sklearn.datasets import make_regression\n",
    "X_train, X_test, y_train, y_test =  train_test_split(X, y,test_size=0.05)\n",
    "regr =make_pipeline(StandardScaler(), SVR(C=10, epsilon=1))\n",
    "regr.fit(X_train, y_train)"
   ]
  },
  {
   "cell_type": "code",
   "execution_count": 248,
   "id": "4f8c5137",
   "metadata": {},
   "outputs": [
    {
     "data": {
      "text/plain": [
       "array([-1.,  1., -3., -1.,  1., -5.,  2.,  1.,  0., -1.,  0.,  1.,  2.,\n",
       "       -1.,  0.,  0., -1.,  1.,  2.,  1.,  0.,  1., -2.,  0.,  2.,  1.])"
      ]
     },
     "execution_count": 248,
     "metadata": {},
     "output_type": "execute_result"
    }
   ],
   "source": [
    "y_test-np.round(regr.predict(X_test))"
   ]
  },
  {
   "cell_type": "code",
   "execution_count": 249,
   "id": "3cc13592",
   "metadata": {},
   "outputs": [
    {
     "data": {
      "text/plain": [
       "(503,)"
      ]
     },
     "execution_count": 249,
     "metadata": {},
     "output_type": "execute_result"
    }
   ],
   "source": [
    "y.shape"
   ]
  },
  {
   "cell_type": "code",
   "execution_count": 250,
   "id": "d146ae3b",
   "metadata": {},
   "outputs": [
    {
     "data": {
      "text/plain": [
       "0.9821689290486275"
      ]
     },
     "execution_count": 250,
     "metadata": {},
     "output_type": "execute_result"
    }
   ],
   "source": [
    "regr.score(X_test, y_test)"
   ]
  },
  {
   "cell_type": "code",
   "execution_count": 251,
   "id": "899ce543",
   "metadata": {},
   "outputs": [
    {
     "data": {
      "text/plain": [
       "array([52.11312845, 51.07496813, 78.84645793, 59.58470565, 56.75448467,\n",
       "       34.53686412, 56.35855437, 47.88275209, 39.66171753, 60.51676741,\n",
       "       51.40911385, 57.10341842, 48.60247417, 77.41349283, 62.2996356 ,\n",
       "       51.06993078, 78.59740158, 49.50261968, 38.22600883, 52.01284289,\n",
       "       75.86898068, 68.87276289, 58.0287923 , 62.43406279, 64.79940063,\n",
       "       43.92626911])"
      ]
     },
     "execution_count": 251,
     "metadata": {},
     "output_type": "execute_result"
    }
   ],
   "source": [
    "regr.predict(X_test)"
   ]
  },
  {
   "cell_type": "code",
   "execution_count": 610,
   "id": "76395628",
   "metadata": {},
   "outputs": [
    {
     "data": {
      "text/plain": [
       "array([37, 41, 71, 69, 67, 36, 75, 48, 73, 74, 50, 42, 37, 37, 50, 60, 37,\n",
       "       47, 55, 65, 36, 58, 49, 69, 65, 63, 72, 73, 62, 69, 68, 46, 56, 64,\n",
       "       76, 69, 54, 51, 48, 44, 57, 61, 69, 78, 57, 82, 71, 79, 58, 66, 67,\n",
       "       59, 35, 52, 54, 32, 37, 46, 72, 33, 32, 69, 54, 73, 51, 35, 79, 84,\n",
       "       51, 82, 75, 78, 59, 36, 62, 36, 43, 62, 42, 46, 74, 67, 35, 74, 54,\n",
       "       53, 53, 48, 65, 48, 67, 60, 82, 39, 61, 78, 77, 60, 37, 43, 39, 43,\n",
       "       66, 58, 44, 60, 49, 40, 61, 71, 86, 52, 57, 81, 69, 43, 76, 50, 71,\n",
       "       83, 77, 55, 72, 45, 82, 42, 78, 59, 39, 60, 49, 70, 36, 62, 67, 43,\n",
       "       67, 62, 56, 44, 50, 50, 60, 46, 62, 52, 43, 68, 61, 37, 47, 65, 35,\n",
       "       32, 36, 36, 60, 81, 70, 62, 45, 50, 60, 57, 42, 81, 80, 50, 73, 58,\n",
       "       58, 78, 44, 54, 68, 40], dtype=int64)"
      ]
     },
     "execution_count": 610,
     "metadata": {},
     "output_type": "execute_result"
    }
   ],
   "source": [
    "y_test"
   ]
  },
  {
   "cell_type": "code",
   "execution_count": 611,
   "id": "8fa10559",
   "metadata": {},
   "outputs": [
    {
     "data": {
      "text/plain": [
       "array([59.03325397])"
      ]
     },
     "execution_count": 611,
     "metadata": {},
     "output_type": "execute_result"
    }
   ],
   "source": [
    "regr.predict(np.array([[ 33,  76, 916]]))"
   ]
  },
  {
   "cell_type": "code",
   "execution_count": 612,
   "id": "d68d56c3",
   "metadata": {},
   "outputs": [
    {
     "data": {
      "text/plain": [
       "array([0.2079896])"
      ]
     },
     "execution_count": 612,
     "metadata": {},
     "output_type": "execute_result"
    }
   ],
   "source": [
    "ereg.predict(np.array([[ 33,  76, 916]]))"
   ]
  },
  {
   "cell_type": "markdown",
   "id": "653119df",
   "metadata": {},
   "source": [
    "### Train regression model for depth estimation"
   ]
  },
  {
   "cell_type": "code",
   "execution_count": 613,
   "id": "a1885e23",
   "metadata": {},
   "outputs": [],
   "source": [
    "y_depth = np.load('robot_height.npy')[:,2]"
   ]
  },
  {
   "cell_type": "code",
   "execution_count": 616,
   "id": "3f8be077",
   "metadata": {},
   "outputs": [
    {
     "data": {
      "text/plain": [
       "array([0.25348057, 0.21399699, 0.25208295, 0.207801  , 0.2264939 ,\n",
       "       0.25289084, 0.21737003, 0.24313136, 0.23928062, 0.22430526,\n",
       "       0.24103194, 0.25604364, 0.24770819, 0.19471237, 0.22540642,\n",
       "       0.24344186, 0.24581036, 0.22159548, 0.22578965, 0.24674095,\n",
       "       0.21371677, 0.25929168, 0.17251816, 0.11222602, 0.22158446,\n",
       "       0.23030485, 0.25266521, 0.22302546, 0.21877816, 0.25462285,\n",
       "       0.22981277, 0.16741221, 0.21625949, 0.16479001, 0.24568781,\n",
       "       0.14365217, 0.24675315, 0.18371316, 0.16859487, 0.23613234,\n",
       "       0.23374892, 0.13270747, 0.1229524 , 0.11432236, 0.12514312,\n",
       "       0.22728454, 0.24805249, 0.2223625 , 0.21880586, 0.2108901 ,\n",
       "       0.18987795, 0.23995198, 0.23932465, 0.22151968, 0.1767238 ,\n",
       "       0.23849458, 0.21750334, 0.18158119, 0.2198075 , 0.23720644,\n",
       "       0.25536436, 0.20289609, 0.18731362, 0.19654571, 0.2287796 ,\n",
       "       0.25313539, 0.22574427, 0.23036044, 0.22507348, 0.26858633,\n",
       "       0.2545905 , 0.22050805, 0.22524656, 0.22912194, 0.22875695,\n",
       "       0.25491415, 0.19906828, 0.25119882, 0.18595507, 0.21135536,\n",
       "       0.26153   , 0.21378129, 0.11685545, 0.22236369, 0.18734915,\n",
       "       0.17294725, 0.21162216, 0.20607596, 0.23252227, 0.25184297,\n",
       "       0.21201843, 0.24012541, 0.09663737, 0.24169999, 0.16755277,\n",
       "       0.25732729, 0.22857202, 0.22858473, 0.26346584, 0.24882807,\n",
       "       0.24337757, 0.20280183, 0.19042276, 0.21823852, 0.23350115,\n",
       "       0.23807592, 0.24782393, 0.17141994, 0.24402164, 0.26596331,\n",
       "       0.25205706, 0.25884501, 0.1423937 , 0.22287957, 0.1686831 ,\n",
       "       0.15791164, 0.19484936, 0.17817062, 0.13644901, 0.09406209,\n",
       "       0.18641148, 0.14673568, 0.22423231, 0.1580296 , 0.1471334 ,\n",
       "       0.19824539, 0.21510459, 0.22006734, 0.20546501, 0.25485985,\n",
       "       0.17931154, 0.17409842, 0.24820438, 0.22433354, 0.25855583,\n",
       "       0.20186845, 0.25497554, 0.20913657, 0.23138245, 0.19822985,\n",
       "       0.13282962, 0.23248405, 0.23126375, 0.17881569, 0.23622061,\n",
       "       0.14014483, 0.16207248, 0.21883408, 0.25956341, 0.20272794,\n",
       "       0.19370262, 0.1508711 , 0.13140594, 0.21080362, 0.23383267,\n",
       "       0.23507895, 0.1616037 , 0.18662374, 0.24086937, 0.21132704,\n",
       "       0.21669933, 0.25052903, 0.2457941 , 0.22799455, 0.25799255,\n",
       "       0.2569239 , 0.24660746, 0.19012556, 0.24423277, 0.16622044,\n",
       "       0.17212135, 0.21577044, 0.22299134, 0.19833714, 0.14723052,\n",
       "       0.21669287, 0.13385338, 0.2208023 , 0.20267531, 0.21645673,\n",
       "       0.21644726, 0.20842343, 0.23698077, 0.23740536, 0.20620158,\n",
       "       0.14336273, 0.20376115, 0.22167819, 0.24407403, 0.17840098,\n",
       "       0.19757145, 0.263509  , 0.17906534, 0.22618941, 0.10090933,\n",
       "       0.20734563, 0.21781322, 0.19938445, 0.25922617, 0.21448191,\n",
       "       0.20416149, 0.22672357, 0.24365737, 0.2603966 , 0.21335777,\n",
       "       0.22200164, 0.23506177, 0.22333756, 0.17564324, 0.2518749 ,\n",
       "       0.23799422, 0.23373515, 0.25155543, 0.09109827, 0.18511243,\n",
       "       0.23461184, 0.14772645, 0.26066382, 0.26271031, 0.20953258,\n",
       "       0.14785017, 0.23920475, 0.22108284, 0.21084842, 0.25773622,\n",
       "       0.13939861, 0.12410658, 0.20637076, 0.20755773, 0.22577087,\n",
       "       0.23613695, 0.21162862, 0.24536282, 0.22507827, 0.17306552,\n",
       "       0.19225584, 0.18662374, 0.17091654, 0.20267531, 0.17988404,\n",
       "       0.23301888, 0.21149521, 0.24410277, 0.23243282, 0.20186555,\n",
       "       0.21985917, 0.18118456, 0.25320767, 0.22103476, 0.17485847,\n",
       "       0.21106406, 0.21940608, 0.23743165, 0.22965267, 0.21858642,\n",
       "       0.22060931, 0.14118706, 0.23406754, 0.25248486, 0.24504402,\n",
       "       0.13820262, 0.25118198, 0.17602236, 0.20939415, 0.22536548,\n",
       "       0.22040874, 0.26254179, 0.18721442, 0.21906198, 0.18128435,\n",
       "       0.13751719, 0.23462494, 0.22965267, 0.20601755, 0.23212048,\n",
       "       0.22852026, 0.2233025 , 0.12803454, 0.25350578, 0.25225885,\n",
       "       0.26199412, 0.17236413, 0.24663856, 0.25084015, 0.23563294,\n",
       "       0.22210219, 0.1781755 , 0.25386703, 0.13483809, 0.1951444 ,\n",
       "       0.23415088, 0.2454146 , 0.22672818, 0.21257012, 0.24745618,\n",
       "       0.23569515, 0.24168518, 0.19282535, 0.22676165, 0.14046521,\n",
       "       0.21549916, 0.1758126 , 0.24752547, 0.19651713, 0.24410826,\n",
       "       0.22471115, 0.23697023, 0.25666291, 0.24653474, 0.22160255,\n",
       "       0.24339486, 0.25849358, 0.21349774, 0.22607363, 0.22649296,\n",
       "       0.12574278, 0.1806729 , 0.10566533, 0.22278671, 0.22162553,\n",
       "       0.21855945, 0.22124305, 0.21892354, 0.24911858, 0.20304077,\n",
       "       0.20221368, 0.22484477, 0.24581418, 0.20213194, 0.22259947,\n",
       "       0.24852385, 0.21635506, 0.23412705, 0.24580738, 0.21565918,\n",
       "       0.25538689, 0.19574268, 0.246127  , 0.23143045, 0.24275126,\n",
       "       0.19829784, 0.15620686, 0.20956024, 0.19985658, 0.23981251,\n",
       "       0.24346956, 0.24143252, 0.14762776, 0.25380097, 0.22815269,\n",
       "       0.20227571, 0.24670036, 0.14107864, 0.20480165, 0.23974589,\n",
       "       0.23372318, 0.21665881, 0.14795778, 0.19206079, 0.22987946,\n",
       "       0.26639405, 0.23644682, 0.25868793, 0.24594021, 0.17212135,\n",
       "       0.22164682, 0.21235033, 0.21173174, 0.23427888, 0.19305981,\n",
       "       0.15619022, 0.13477809, 0.19448993, 0.23391541, 0.21640268,\n",
       "       0.24067912, 0.25134961, 0.20461699, 0.26117757, 0.22303342,\n",
       "       0.18048015, 0.17908023, 0.23969434, 0.21374395, 0.26350998,\n",
       "       0.21979382, 0.1969766 , 0.20222393, 0.18610591, 0.23953733,\n",
       "       0.19502556, 0.22432501, 0.15878807, 0.19724965, 0.09393639,\n",
       "       0.20331206, 0.13686532, 0.25994232, 0.2263986 , 0.25375428,\n",
       "       0.23763542, 0.22695778, 0.24937518, 0.20118343, 0.22678067,\n",
       "       0.07333095, 0.2090664 , 0.2538582 , 0.23059492, 0.24737586,\n",
       "       0.23897545, 0.22751547, 0.21762017, 0.24197095, 0.21043179,\n",
       "       0.22382746, 0.22981277, 0.21677562, 0.13511967, 0.22249009,\n",
       "       0.22977754, 0.26039008, 0.2178621 , 0.23959956, 0.2429745 ,\n",
       "       0.20775838, 0.22734775, 0.20513478, 0.22377768, 0.20466333,\n",
       "       0.21577044, 0.23597486, 0.22302938, 0.24302735, 0.24798354,\n",
       "       0.19113456, 0.26145427, 0.24287299, 0.11413573, 0.22230137,\n",
       "       0.07509031, 0.09150855, 0.16343839, 0.2077143 , 0.15847038,\n",
       "       0.21887613, 0.21832277, 0.21690255, 0.18058276, 0.23391979,\n",
       "       0.1721544 , 0.21466136, 0.20857704, 0.2111405 , 0.20843152,\n",
       "       0.15028849, 0.22742933, 0.22979126, 0.10266582, 0.13584048,\n",
       "       0.22166261, 0.22277728, 0.14839233, 0.2115428 , 0.22128879,\n",
       "       0.23543782, 0.22072187, 0.2225334 , 0.24026094, 0.21494065,\n",
       "       0.22368597, 0.23705545, 0.23730876, 0.22578655, 0.2254531 ,\n",
       "       0.11351206, 0.19236374, 0.16393827, 0.22882916, 0.17488557,\n",
       "       0.22987326, 0.24148338, 0.18618388, 0.23385531, 0.21281997,\n",
       "       0.25740189, 0.24920776, 0.24473457, 0.22665071, 0.19574451,\n",
       "       0.20915942, 0.2448221 , 0.22350167, 0.22365902, 0.23481136,\n",
       "       0.23645088, 0.26195131, 0.22179659, 0.22963608, 0.25887341,\n",
       "       0.22166152, 0.20674913, 0.19962408, 0.26227707, 0.16565516,\n",
       "       0.25595104, 0.2281161 , 0.2345644 , 0.15044325, 0.26195131,\n",
       "       0.23016729, 0.20795649, 0.22192398, 0.23761609, 0.22689811,\n",
       "       0.2388888 , 0.21800223, 0.24792461, 0.22817047, 0.25391644,\n",
       "       0.18987828, 0.23524574, 0.24228472, 0.23094121, 0.22232421,\n",
       "       0.23481197, 0.2339224 , 0.25812433, 0.2506063 , 0.21683801,\n",
       "       0.17534473, 0.21170247, 0.21508421, 0.12280032, 0.23342745,\n",
       "       0.24368105, 0.2125498 , 0.20017364, 0.18971426, 0.22817047,\n",
       "       0.24473457, 0.23106072, 0.24234776, 0.20715526, 0.22069527,\n",
       "       0.25107118, 0.15864194, 0.20453368, 0.17299609, 0.17328557,\n",
       "       0.20858416, 0.21930383, 0.25668622, 0.18421799, 0.21274349,\n",
       "       0.21555718, 0.15917838, 0.11392803, 0.20673136, 0.25046392,\n",
       "       0.12249014, 0.22498173, 0.22956682, 0.20886269, 0.22460367,\n",
       "       0.16021818, 0.21524405, 0.23004167, 0.19843123, 0.22297288,\n",
       "       0.21332007, 0.17674318, 0.22086192, 0.23857911, 0.25065692,\n",
       "       0.23916419, 0.1582053 , 0.25455978, 0.22210564, 0.17891294,\n",
       "       0.23056081, 0.23294032, 0.23000972, 0.17164698, 0.23628127,\n",
       "       0.25092686, 0.23847654, 0.22786558, 0.23230989, 0.18587375,\n",
       "       0.17143004, 0.19307161, 0.23326417, 0.24931685, 0.24916316,\n",
       "       0.23615678, 0.23035027, 0.12631431, 0.21339998, 0.17451881,\n",
       "       0.18081596, 0.22116414, 0.21472475, 0.24270126, 0.11561168,\n",
       "       0.21814419, 0.20606936, 0.21244937, 0.20889058, 0.20741627,\n",
       "       0.22798414, 0.18533625, 0.16774281, 0.22221628, 0.17809506,\n",
       "       0.21403082, 0.21912613, 0.25360934, 0.2218902 , 0.23251998,\n",
       "       0.23429816, 0.21538527, 0.1241935 , 0.23391979, 0.09692199,\n",
       "       0.17833994, 0.24164319, 0.24273246, 0.22592514, 0.10551288,\n",
       "       0.25695189, 0.24448978, 0.25095791, 0.26455533, 0.14592415,\n",
       "       0.19818871, 0.15028849, 0.21501204, 0.24315647, 0.22829606,\n",
       "       0.24210174, 0.24525003, 0.23109962, 0.25542623, 0.26044934,\n",
       "       0.2136034 , 0.21317458, 0.18804391, 0.18062434, 0.20528107,\n",
       "       0.2506063 , 0.1110801 , 0.15956493, 0.23424275, 0.26241834,\n",
       "       0.21417568, 0.22141652, 0.25263979, 0.24235591, 0.16846831,\n",
       "       0.24963791, 0.18267775, 0.20103819, 0.15644569, 0.21578769,\n",
       "       0.24617794, 0.22554573, 0.20280183, 0.24040789, 0.24294836,\n",
       "       0.19520981, 0.22160192, 0.23967024, 0.23652839, 0.22211224,\n",
       "       0.24470025, 0.24284401, 0.18464559, 0.21774805, 0.17410137,\n",
       "       0.20175132, 0.21549221, 0.23416654, 0.24413254, 0.1659518 ,\n",
       "       0.22974798, 0.16031517, 0.23809157, 0.23507548, 0.24959279,\n",
       "       0.21883721, 0.19836297, 0.20954169, 0.24590391, 0.24488111,\n",
       "       0.16071806, 0.21813191, 0.2197827 , 0.2376532 , 0.20924815,\n",
       "       0.23060084, 0.2018944 , 0.21758806, 0.25286712, 0.17070545,\n",
       "       0.19976498, 0.21378153, 0.19289908, 0.23818211, 0.23638748,\n",
       "       0.14253632, 0.25313539, 0.23781308, 0.17544667, 0.19670876,\n",
       "       0.17639874, 0.19745876, 0.2381634 , 0.25842926, 0.20496582,\n",
       "       0.15634285, 0.2535746 , 0.25241652, 0.20040149, 0.21200509,\n",
       "       0.23219916, 0.2002668 , 0.23250756, 0.11375628, 0.23911844,\n",
       "       0.21146845, 0.20079186, 0.21187149, 0.11106696, 0.24949347,\n",
       "       0.20650023, 0.21620347, 0.25590052, 0.22104006, 0.10401537,\n",
       "       0.22212132, 0.26243643, 0.24409431, 0.20919683, 0.24310468,\n",
       "       0.23224296, 0.21595276, 0.25286285, 0.2560818 , 0.16291404,\n",
       "       0.24344574, 0.17476702, 0.22522514, 0.11544345, 0.2188986 ,\n",
       "       0.21906318, 0.22547311, 0.19584708, 0.22350574, 0.13088366,\n",
       "       0.23391979, 0.2333872 , 0.18385954, 0.25171532, 0.22857267,\n",
       "       0.24922869, 0.23498117, 0.20948856, 0.22431773, 0.19938445,\n",
       "       0.2204365 , 0.24891304, 0.2037566 , 0.21044861, 0.22591323,\n",
       "       0.16190535, 0.23620992, 0.25115489, 0.23618555, 0.25728844,\n",
       "       0.25005963, 0.23366109, 0.21899785, 0.2454146 , 0.23191933,\n",
       "       0.2258124 , 0.19985658, 0.23491235, 0.23153207, 0.22109355,\n",
       "       0.23499922, 0.20703674, 0.21613429, 0.21644726, 0.24254372,\n",
       "       0.19550644, 0.11877034, 0.24736627, 0.22553532, 0.08408129,\n",
       "       0.09696525, 0.2375652 , 0.22812203, 0.22928155, 0.25947659,\n",
       "       0.24511973, 0.23529819, 0.26749472, 0.22992994, 0.22882871,\n",
       "       0.19601717, 0.20836066, 0.2571505 , 0.25928003, 0.25849358,\n",
       "       0.23905968, 0.21120684, 0.24441682, 0.25328464, 0.20486516,\n",
       "       0.21151589, 0.12794497, 0.15822119, 0.22092355, 0.22733455,\n",
       "       0.17443131, 0.23651883, 0.24406105, 0.22343976, 0.23542605,\n",
       "       0.19358566, 0.20396739, 0.21894942, 0.22488655, 0.20197113,\n",
       "       0.22112189, 0.1255262 , 0.25927902, 0.23484763, 0.25204683,\n",
       "       0.12068637, 0.22358398, 0.23431535, 0.14821265, 0.2317141 ,\n",
       "       0.25390189, 0.19362691, 0.17517689, 0.20898142, 0.19628891,\n",
       "       0.21769938, 0.18018592, 0.128037  , 0.22908774, 0.24196375,\n",
       "       0.25179723, 0.24795951, 0.17970946, 0.22888525, 0.13351906,\n",
       "       0.11561168, 0.10506226, 0.19789179, 0.2522423 , 0.24810545,\n",
       "       0.22607363, 0.17415653, 0.24165182, 0.22294901, 0.10388213,\n",
       "       0.16725027, 0.22862211, 0.14253318, 0.23242025, 0.25294089,\n",
       "       0.24028932, 0.14922257, 0.2348693 , 0.14139123, 0.12516684,\n",
       "       0.09667463, 0.17686366, 0.2547631 , 0.2218902 , 0.22338107,\n",
       "       0.21432692, 0.18339969, 0.21640268, 0.1852177 , 0.23116694,\n",
       "       0.21034009, 0.16420323, 0.25573313, 0.16501465, 0.23634589,\n",
       "       0.25731025, 0.17844157, 0.21163395, 0.26082302, 0.19541046,\n",
       "       0.14247857, 0.21564999, 0.15817069, 0.23645372, 0.20620158,\n",
       "       0.2008179 , 0.22941693, 0.15097005, 0.20763218, 0.2131658 ,\n",
       "       0.22958525, 0.17904417, 0.25056186, 0.19686773, 0.23186019,\n",
       "       0.2143625 , 0.25304953, 0.26129679, 0.24384821, 0.20931   ,\n",
       "       0.22461025, 0.21694931, 0.25192803, 0.24056456, 0.20806893,\n",
       "       0.20368573, 0.24525338, 0.2320582 , 0.2423926 , 0.20547623,\n",
       "       0.12793321, 0.22160192, 0.20382343, 0.22585939, 0.18995213,\n",
       "       0.24279048, 0.23892842, 0.25376364, 0.13572104, 0.13402974,\n",
       "       0.17089886, 0.22877346, 0.19250516, 0.24917473, 0.1991897 ,\n",
       "       0.24567033, 0.19203221, 0.2131392 , 0.25175817, 0.20556438,\n",
       "       0.24079288, 0.21342348, 0.12895489, 0.1731746 , 0.23993933,\n",
       "       0.17295296, 0.16587714, 0.14995115, 0.20688461, 0.15303691,\n",
       "       0.2327891 , 0.24551702, 0.2031188 , 0.2278489 , 0.20584908,\n",
       "       0.23538379, 0.24314819, 0.25712532, 0.21372489, 0.17302084,\n",
       "       0.20313931, 0.22056004, 0.21542119, 0.22594968, 0.22276964,\n",
       "       0.24471222, 0.21300178, 0.22164857, 0.20056067, 0.16730081,\n",
       "       0.25406592, 0.25230358, 0.21631656, 0.24906606, 0.23467665,\n",
       "       0.22536225, 0.15679943, 0.14726843, 0.22676468, 0.23136448,\n",
       "       0.13441871, 0.22707478, 0.12794497, 0.22786558, 0.22531354,\n",
       "       0.2056924 , 0.22930682, 0.17873294, 0.2590087 , 0.25019822])"
      ]
     },
     "execution_count": 616,
     "metadata": {},
     "output_type": "execute_result"
    }
   ],
   "source": [
    "y_depth"
   ]
  },
  {
   "cell_type": "code",
   "execution_count": 615,
   "id": "e81abfa1",
   "metadata": {},
   "outputs": [],
   "source": [
    "X = np.load('joint1_nn_x_1.npy')"
   ]
  },
  {
   "cell_type": "code",
   "execution_count": 617,
   "id": "ed0fa95e",
   "metadata": {},
   "outputs": [
    {
     "data": {
      "text/plain": [
       "(1000, 3)"
      ]
     },
     "execution_count": 617,
     "metadata": {},
     "output_type": "execute_result"
    }
   ],
   "source": [
    "X.shape"
   ]
  },
  {
   "cell_type": "code",
   "execution_count": 618,
   "id": "f3895ae7",
   "metadata": {},
   "outputs": [
    {
     "data": {
      "text/plain": [
       "0.9783543398814375"
      ]
     },
     "execution_count": 618,
     "metadata": {},
     "output_type": "execute_result"
    }
   ],
   "source": [
    "from sklearn.ensemble import RandomForestRegressor\n",
    "from sklearn.datasets import make_regression\n",
    "X_train, X_test, y_train, y_test =  train_test_split(X, y_depth,test_size=0.25)\n",
    "\n",
    "regr = RandomForestRegressor(n_estimators=1000)\n",
    "regr.fit(X_train, y_train)\n",
    "regr.score(X_test, y_test)"
   ]
  },
  {
   "cell_type": "code",
   "execution_count": 619,
   "id": "8b233a2a",
   "metadata": {},
   "outputs": [
    {
     "data": {
      "text/plain": [
       "array([  0,   8,  -1,   0,  -2,   3,   6,   0,   7,   0,   7,  -3,   0,\n",
       "         1,   3,  -1,  -3,   7,   0,   3,  -9,   0,   6,   0,  -4,   6,\n",
       "         8,   5,  -3,   2,  -3,  -8,   3,  -8, -14,   4,  -5,  -7,  -8,\n",
       "        -2,  -2,  -3,  -5,   0,   5,   1,   2,   4,  -4,  -1,  -6,  -3,\n",
       "        -1, -12,   5,  -4,   4,   1,   0,   0,  -5,  -2,   0,  -9,   1,\n",
       "         1,   5,  -1,  -6,   0,   6,   1,   0,   1,  -6,  -3,   2,  -3,\n",
       "         2,   5,   5,  -3,   5,   2,  -2,   1,  -7,   2,  -2,  -4,   0,\n",
       "         5,   5,  -5,  -5,  -7,   2,   3,   5,  -4,   3,   9,  -6,   0,\n",
       "        -2, -13,   3,   3,   4,   1, -14,   2,   0,  -1,   2,   2,   8,\n",
       "        -1,  -2,   2,   1,  -4,   1,  -9,   5, -14,   3,  14,  -3,  -5,\n",
       "        -4,   0,  -3,  -1,  -1,  -3, -13,   2,   0,   2,   2,  -1,   2,\n",
       "        -8,   6,  -1,   1,   0,   1,   2,  -2,   2,   0,  -1,  -3,   0,\n",
       "        -1,  -4,   2,  -5, -13,   0, -12,   3,  -7,  -4,  10,  -1,  -4,\n",
       "        -2,   0,  -6,  -2,   9, -10,   2,   9,   0,  -1,   2,  -1,   9,\n",
       "        -3,   3,   1,   0,  -2,  11,  -1,  -8,  13,   1,   0,  10,   0,\n",
       "        -2,   3,  -2,  -3,  -1,  -3,  -1,   5,   9,  -8,   0,  -9,  -2,\n",
       "         0,  -6,  -1,  -2, -18,   2,  -2,   4,  -3,  -6,   7,   6, -16,\n",
       "         3,  -1,   1,   2,  -2,  17,  -3,  -9,   6,   0, -26,   0,   3,\n",
       "        -4,   1,  -2,   2,   0,   1,   3,   1,  -2,   1,   3,   7,   0,\n",
       "        -7,   8,   0], dtype=int16)"
      ]
     },
     "execution_count": 619,
     "metadata": {},
     "output_type": "execute_result"
    }
   ],
   "source": [
    "regr.score(X_test, y_test)\n",
    "((y_test-(regr.predict(X_test)))*1000).astype(np.int16)"
   ]
  },
  {
   "cell_type": "code",
   "execution_count": 620,
   "id": "67357ca0",
   "metadata": {},
   "outputs": [
    {
     "data": {
      "text/plain": [
       "array([48, 63, 39, 39, 72, 48, 35, 74, 70, 40, 36, 38, 84, 73, 43, 76, 73,\n",
       "       61, 57, 36, 45, 68, 46, 49, 50, 40, 69, 65, 50, 40, 42, 72, 69, 35,\n",
       "       50, 62, 44, 71, 61, 37, 67, 60, 67, 79, 58, 59, 72, 37, 60, 83, 60,\n",
       "       55, 74, 48, 62, 73, 42, 40, 42, 51, 76, 37, 45, 44, 58, 71, 45, 45,\n",
       "       59, 60, 48, 52, 45, 66, 74, 75, 58, 54, 65, 76, 43, 45, 54, 50, 49,\n",
       "       49, 38, 58, 64, 52, 40, 75, 87, 65, 67, 53, 77, 60, 64, 44, 72, 75,\n",
       "       36, 44, 54, 40, 38, 46, 57, 76, 36, 68, 83, 47, 72, 62, 71, 36, 84,\n",
       "       57, 35, 40, 55, 55, 53, 80, 38, 40, 73, 61, 79, 73, 76, 61, 61, 54,\n",
       "       72, 36, 35, 76, 58, 63, 65, 44, 79, 34, 65, 74, 73, 86, 46, 33, 33,\n",
       "       39, 42, 45, 46, 54, 62, 56, 69, 85, 84, 48, 65, 73, 44, 42, 67, 49,\n",
       "       46, 40, 50, 58, 59, 52, 50, 45, 67, 82, 83, 67, 41, 78, 46, 72, 41,\n",
       "       59, 47, 39, 61, 62, 52, 66, 62, 57, 75, 58, 45, 37, 49, 58, 60, 46,\n",
       "       60, 65, 84, 46, 31, 51, 47, 45, 79, 65, 61, 68, 86, 57, 40, 40, 48,\n",
       "       52, 69, 58, 35, 67, 57, 64, 75, 63, 36, 67, 38, 62, 81, 51, 81, 73,\n",
       "       69, 53, 76, 82, 67, 65, 46, 71, 39, 36, 73, 85, 62, 60, 36, 52, 82,\n",
       "       46, 85, 53, 50, 32, 69, 68, 59, 63, 72, 58, 46, 74, 82, 88, 62, 48,\n",
       "       81, 71, 62, 54, 62, 65, 39, 56, 80, 71, 50, 37, 53, 61, 53, 51, 45,\n",
       "       57, 38, 83, 66, 73, 66, 75, 37, 55, 64, 77, 46, 78, 71, 50, 38, 49,\n",
       "       35, 53, 82, 57, 67, 62, 85, 71, 71, 81, 63, 41, 59, 76, 67, 75, 81,\n",
       "       69, 37, 36, 37, 56, 86, 58, 58, 44, 84, 42, 64, 63, 56, 70, 71, 67,\n",
       "       35, 63, 65, 53, 69, 77, 49, 62, 51, 74, 86, 49, 80, 69, 72, 67, 79,\n",
       "       51, 46, 60, 60, 62, 73, 42, 68, 43, 54, 80, 53, 68, 66, 67, 75, 47,\n",
       "       54, 51, 67, 69, 62, 60, 76, 35, 44, 62, 75, 42, 81, 46, 68, 66, 64,\n",
       "       59, 43, 71, 50, 46, 58, 37, 54, 32, 56, 79, 41, 31, 78, 87, 55, 71,\n",
       "       82, 37, 58, 54, 32, 55, 48, 75, 82, 54, 43, 69, 56, 46, 59, 68, 70,\n",
       "       50, 63, 39, 37, 49, 43, 72, 49, 42, 80, 56, 54, 52, 62, 37, 57, 50,\n",
       "       82, 68, 82, 83, 85, 76, 37, 36, 65, 49, 74, 83, 37, 37, 46, 39, 49,\n",
       "       56, 58, 40, 64, 75, 78, 60, 62, 63, 49, 55, 57, 58, 68, 58, 72, 60,\n",
       "       53, 50, 68, 54, 60, 78, 74, 73, 66, 71, 55, 76, 34, 67, 47, 66, 48,\n",
       "       56, 38, 59, 42, 68, 57, 56, 55, 79, 57, 59, 66, 40, 39, 43, 47, 51,\n",
       "       84, 72, 67, 40, 60, 53, 47, 66, 55, 64, 69, 30, 38, 77, 76, 58, 82,\n",
       "       42, 51, 58, 37, 43, 77, 38, 57, 50, 36, 47, 43, 36, 58, 51, 60, 82,\n",
       "       36, 62, 44, 62, 85, 37, 55, 54, 61, 74, 50, 55, 51, 36, 41, 59, 53,\n",
       "       43, 57, 61, 32, 36, 36, 60, 62, 48, 36, 65, 70, 39, 41, 45, 79, 67,\n",
       "       43, 46, 45, 64, 39, 75, 46, 37, 37, 36, 50, 66, 62, 81, 35, 79, 43,\n",
       "       73, 46, 78, 70, 86, 41, 69, 69, 60, 51, 51, 59, 68, 58, 57, 40, 55,\n",
       "       58, 65, 74, 69, 36, 48, 85, 69, 52, 55, 71, 59, 69, 81, 74, 73, 50,\n",
       "       41, 41, 54, 47, 37, 63, 86, 81, 59, 47, 70, 44, 69, 87, 66, 67, 60,\n",
       "       78, 46, 37, 39, 67, 55, 68, 49, 62, 74, 50, 72, 63, 64, 49, 57, 86,\n",
       "       49, 36, 68, 71, 43, 48, 46, 73, 60, 62, 65, 49, 48, 83, 85, 84, 67,\n",
       "       44, 37, 76, 78, 64, 70, 66, 49, 70, 58, 42, 72, 76, 60, 52, 85, 40,\n",
       "       81, 62, 86, 71], dtype=int64)"
      ]
     },
     "execution_count": 620,
     "metadata": {},
     "output_type": "execute_result"
    }
   ],
   "source": [
    "y"
   ]
  },
  {
   "cell_type": "code",
   "execution_count": 621,
   "id": "1c725214",
   "metadata": {},
   "outputs": [
    {
     "data": {
      "text/html": [
       "<style>#sk-container-id-70 {color: black;background-color: white;}#sk-container-id-70 pre{padding: 0;}#sk-container-id-70 div.sk-toggleable {background-color: white;}#sk-container-id-70 label.sk-toggleable__label {cursor: pointer;display: block;width: 100%;margin-bottom: 0;padding: 0.3em;box-sizing: border-box;text-align: center;}#sk-container-id-70 label.sk-toggleable__label-arrow:before {content: \"▸\";float: left;margin-right: 0.25em;color: #696969;}#sk-container-id-70 label.sk-toggleable__label-arrow:hover:before {color: black;}#sk-container-id-70 div.sk-estimator:hover label.sk-toggleable__label-arrow:before {color: black;}#sk-container-id-70 div.sk-toggleable__content {max-height: 0;max-width: 0;overflow: hidden;text-align: left;background-color: #f0f8ff;}#sk-container-id-70 div.sk-toggleable__content pre {margin: 0.2em;color: black;border-radius: 0.25em;background-color: #f0f8ff;}#sk-container-id-70 input.sk-toggleable__control:checked~div.sk-toggleable__content {max-height: 200px;max-width: 100%;overflow: auto;}#sk-container-id-70 input.sk-toggleable__control:checked~label.sk-toggleable__label-arrow:before {content: \"▾\";}#sk-container-id-70 div.sk-estimator input.sk-toggleable__control:checked~label.sk-toggleable__label {background-color: #d4ebff;}#sk-container-id-70 div.sk-label input.sk-toggleable__control:checked~label.sk-toggleable__label {background-color: #d4ebff;}#sk-container-id-70 input.sk-hidden--visually {border: 0;clip: rect(1px 1px 1px 1px);clip: rect(1px, 1px, 1px, 1px);height: 1px;margin: -1px;overflow: hidden;padding: 0;position: absolute;width: 1px;}#sk-container-id-70 div.sk-estimator {font-family: monospace;background-color: #f0f8ff;border: 1px dotted black;border-radius: 0.25em;box-sizing: border-box;margin-bottom: 0.5em;}#sk-container-id-70 div.sk-estimator:hover {background-color: #d4ebff;}#sk-container-id-70 div.sk-parallel-item::after {content: \"\";width: 100%;border-bottom: 1px solid gray;flex-grow: 1;}#sk-container-id-70 div.sk-label:hover label.sk-toggleable__label {background-color: #d4ebff;}#sk-container-id-70 div.sk-serial::before {content: \"\";position: absolute;border-left: 1px solid gray;box-sizing: border-box;top: 0;bottom: 0;left: 50%;z-index: 0;}#sk-container-id-70 div.sk-serial {display: flex;flex-direction: column;align-items: center;background-color: white;padding-right: 0.2em;padding-left: 0.2em;position: relative;}#sk-container-id-70 div.sk-item {position: relative;z-index: 1;}#sk-container-id-70 div.sk-parallel {display: flex;align-items: stretch;justify-content: center;background-color: white;position: relative;}#sk-container-id-70 div.sk-item::before, #sk-container-id-70 div.sk-parallel-item::before {content: \"\";position: absolute;border-left: 1px solid gray;box-sizing: border-box;top: 0;bottom: 0;left: 50%;z-index: -1;}#sk-container-id-70 div.sk-parallel-item {display: flex;flex-direction: column;z-index: 1;position: relative;background-color: white;}#sk-container-id-70 div.sk-parallel-item:first-child::after {align-self: flex-end;width: 50%;}#sk-container-id-70 div.sk-parallel-item:last-child::after {align-self: flex-start;width: 50%;}#sk-container-id-70 div.sk-parallel-item:only-child::after {width: 0;}#sk-container-id-70 div.sk-dashed-wrapped {border: 1px dashed gray;margin: 0 0.4em 0.5em 0.4em;box-sizing: border-box;padding-bottom: 0.4em;background-color: white;}#sk-container-id-70 div.sk-label label {font-family: monospace;font-weight: bold;display: inline-block;line-height: 1.2em;}#sk-container-id-70 div.sk-label-container {text-align: center;}#sk-container-id-70 div.sk-container {/* jupyter's `normalize.less` sets `[hidden] { display: none; }` but bootstrap.min.css set `[hidden] { display: none !important; }` so we also need the `!important` here to be able to override the default hidden behavior on the sphinx rendered scikit-learn.org. See: https://github.com/scikit-learn/scikit-learn/issues/21755 */display: inline-block !important;position: relative;}#sk-container-id-70 div.sk-text-repr-fallback {display: none;}</style><div id=\"sk-container-id-70\" class=\"sk-top-container\"><div class=\"sk-text-repr-fallback\"><pre>Pipeline(steps=[(&#x27;standardscaler&#x27;, StandardScaler()),\n",
       "                (&#x27;svr&#x27;, SVR(C=2, epsilon=0.001))])</pre><b>In a Jupyter environment, please rerun this cell to show the HTML representation or trust the notebook. <br />On GitHub, the HTML representation is unable to render, please try loading this page with nbviewer.org.</b></div><div class=\"sk-container\" hidden><div class=\"sk-item sk-dashed-wrapped\"><div class=\"sk-label-container\"><div class=\"sk-label sk-toggleable\"><input class=\"sk-toggleable__control sk-hidden--visually\" id=\"sk-estimator-id-211\" type=\"checkbox\" ><label for=\"sk-estimator-id-211\" class=\"sk-toggleable__label sk-toggleable__label-arrow\">Pipeline</label><div class=\"sk-toggleable__content\"><pre>Pipeline(steps=[(&#x27;standardscaler&#x27;, StandardScaler()),\n",
       "                (&#x27;svr&#x27;, SVR(C=2, epsilon=0.001))])</pre></div></div></div><div class=\"sk-serial\"><div class=\"sk-item\"><div class=\"sk-estimator sk-toggleable\"><input class=\"sk-toggleable__control sk-hidden--visually\" id=\"sk-estimator-id-212\" type=\"checkbox\" ><label for=\"sk-estimator-id-212\" class=\"sk-toggleable__label sk-toggleable__label-arrow\">StandardScaler</label><div class=\"sk-toggleable__content\"><pre>StandardScaler()</pre></div></div></div><div class=\"sk-item\"><div class=\"sk-estimator sk-toggleable\"><input class=\"sk-toggleable__control sk-hidden--visually\" id=\"sk-estimator-id-213\" type=\"checkbox\" ><label for=\"sk-estimator-id-213\" class=\"sk-toggleable__label sk-toggleable__label-arrow\">SVR</label><div class=\"sk-toggleable__content\"><pre>SVR(C=2, epsilon=0.001)</pre></div></div></div></div></div></div></div>"
      ],
      "text/plain": [
       "Pipeline(steps=[('standardscaler', StandardScaler()),\n",
       "                ('svr', SVR(C=2, epsilon=0.001))])"
      ]
     },
     "execution_count": 621,
     "metadata": {},
     "output_type": "execute_result"
    }
   ],
   "source": [
    "from sklearn.svm import LinearSVR\n",
    "from sklearn.svm import SVR\n",
    "from sklearn.preprocessing import StandardScaler\n",
    "from sklearn.datasets import make_regression\n",
    "X_train, X_test, y_train, y_test =  train_test_split(X, y_depth,test_size=0.2)\n",
    "regr =make_pipeline(StandardScaler(), SVR(C=2, epsilon=1e-3))\n",
    "regr.fit(X_train, y_train)"
   ]
  },
  {
   "cell_type": "code",
   "execution_count": 622,
   "id": "2ace0f38",
   "metadata": {},
   "outputs": [
    {
     "name": "stdout",
     "output_type": "stream",
     "text": [
      "0.9823554538264124\n"
     ]
    },
    {
     "data": {
      "text/plain": [
       "array([  7,   9,   0,   6,   2,  -5,   3,   5,  -4,   3,   2,  -1,  -1,\n",
       "         3,  -1,   7,   2,   8,   3,  -7,  -6,  -4,   0,   9,   2,   0,\n",
       "         0,   0,  -2,  -1,  -8,  -2,  -5,  -4,   4, -12,   7, -11,   1,\n",
       "        -1,  13,  -8,  -3,   0,   3,   3,  -6,   3,  -1,   0,   3,   5,\n",
       "         2,   2,   3,   5,  -4,  10,   1,   2,   7,  -4,   1,  -3,   0,\n",
       "         3,  -7,   3,  -5,  -5,   9,  -1,  -1,  -2,   5,  -3,   0,   3,\n",
       "         0,   1,  -9,   4,  -3,  -4,   9,  -2,   4,  -4,   2,   0,  -2,\n",
       "         0,  -2,   2,   2,   4,  -5,   0,  -3,  -1,   1,   4,  -2,   5,\n",
       "         5,   0,  -3,  -8,   0,   0,   2,   4,  -5,   2,  -5,   9,  -5,\n",
       "        -1, -10,  -6,   0,   1,   3,   0,  -1,   1,  -4,  -1,   0,  -4,\n",
       "         4,  13,   0,   5,   4,   2,   0,   5,   0,  -2,   0,   0,   1,\n",
       "        -2,   3,   6,   0,  -2,  -3,  -2,  -1,  -1,   4,  -3,  -3,   3,\n",
       "         0,  -1,   5, -14,   4,   3,   2,  -4,   4,   0,   0,   3,   0,\n",
       "         0,  -7,  -8,  -8,   0, -10,   2,   6,  -1,  -8,   3,  -3,   0,\n",
       "        14,   0,  -2,  -2,  -1,  -2,   0,   3,  -3,  -2,  -1,   7,  -9,\n",
       "         4,  -3,   8,  -2,   0], dtype=int16)"
      ]
     },
     "execution_count": 622,
     "metadata": {},
     "output_type": "execute_result"
    }
   ],
   "source": [
    "print(regr.score(X_test, y_test))\n",
    "((y_test-(regr.predict(X_test)))*1000).astype(np.int16)"
   ]
  },
  {
   "cell_type": "code",
   "execution_count": 623,
   "id": "8938672e",
   "metadata": {},
   "outputs": [
    {
     "data": {
      "text/plain": [
       "-5.748044451486102"
      ]
     },
     "execution_count": 623,
     "metadata": {},
     "output_type": "execute_result"
    }
   ],
   "source": [
    "from sklearn.neural_network import MLPRegressor\n",
    "from sklearn.datasets import make_regression\n",
    "from sklearn.model_selection import train_test_split\n",
    "X_train, X_test, y_train, y_test = train_test_split(X, y_depth,\n",
    "                                                    random_state=1)\n",
    "regr = MLPRegressor(hidden_layer_sizes=(200,200,),random_state=1, max_iter=int(1e6)).fit(X_train, y_train)\n",
    "regr.predict(X_test[:2])\n",
    "regr.score(X_test, y_test)"
   ]
  },
  {
   "cell_type": "markdown",
   "id": "24754658",
   "metadata": {},
   "source": [
    "### predict x,y,z in robot frame"
   ]
  },
  {
   "cell_type": "code",
   "execution_count": 624,
   "id": "4a936b82",
   "metadata": {},
   "outputs": [],
   "source": [
    "y_xy= np.load('robot_height.npy')[:,0]"
   ]
  },
  {
   "cell_type": "code",
   "execution_count": 625,
   "id": "cead3ff2",
   "metadata": {},
   "outputs": [
    {
     "data": {
      "text/plain": [
       "(1000, 3)"
      ]
     },
     "execution_count": 625,
     "metadata": {},
     "output_type": "execute_result"
    }
   ],
   "source": [
    "y_xyz.shape"
   ]
  },
  {
   "cell_type": "code",
   "execution_count": 626,
   "id": "f4526e05",
   "metadata": {},
   "outputs": [
    {
     "data": {
      "text/html": [
       "<style>#sk-container-id-71 {color: black;background-color: white;}#sk-container-id-71 pre{padding: 0;}#sk-container-id-71 div.sk-toggleable {background-color: white;}#sk-container-id-71 label.sk-toggleable__label {cursor: pointer;display: block;width: 100%;margin-bottom: 0;padding: 0.3em;box-sizing: border-box;text-align: center;}#sk-container-id-71 label.sk-toggleable__label-arrow:before {content: \"▸\";float: left;margin-right: 0.25em;color: #696969;}#sk-container-id-71 label.sk-toggleable__label-arrow:hover:before {color: black;}#sk-container-id-71 div.sk-estimator:hover label.sk-toggleable__label-arrow:before {color: black;}#sk-container-id-71 div.sk-toggleable__content {max-height: 0;max-width: 0;overflow: hidden;text-align: left;background-color: #f0f8ff;}#sk-container-id-71 div.sk-toggleable__content pre {margin: 0.2em;color: black;border-radius: 0.25em;background-color: #f0f8ff;}#sk-container-id-71 input.sk-toggleable__control:checked~div.sk-toggleable__content {max-height: 200px;max-width: 100%;overflow: auto;}#sk-container-id-71 input.sk-toggleable__control:checked~label.sk-toggleable__label-arrow:before {content: \"▾\";}#sk-container-id-71 div.sk-estimator input.sk-toggleable__control:checked~label.sk-toggleable__label {background-color: #d4ebff;}#sk-container-id-71 div.sk-label input.sk-toggleable__control:checked~label.sk-toggleable__label {background-color: #d4ebff;}#sk-container-id-71 input.sk-hidden--visually {border: 0;clip: rect(1px 1px 1px 1px);clip: rect(1px, 1px, 1px, 1px);height: 1px;margin: -1px;overflow: hidden;padding: 0;position: absolute;width: 1px;}#sk-container-id-71 div.sk-estimator {font-family: monospace;background-color: #f0f8ff;border: 1px dotted black;border-radius: 0.25em;box-sizing: border-box;margin-bottom: 0.5em;}#sk-container-id-71 div.sk-estimator:hover {background-color: #d4ebff;}#sk-container-id-71 div.sk-parallel-item::after {content: \"\";width: 100%;border-bottom: 1px solid gray;flex-grow: 1;}#sk-container-id-71 div.sk-label:hover label.sk-toggleable__label {background-color: #d4ebff;}#sk-container-id-71 div.sk-serial::before {content: \"\";position: absolute;border-left: 1px solid gray;box-sizing: border-box;top: 0;bottom: 0;left: 50%;z-index: 0;}#sk-container-id-71 div.sk-serial {display: flex;flex-direction: column;align-items: center;background-color: white;padding-right: 0.2em;padding-left: 0.2em;position: relative;}#sk-container-id-71 div.sk-item {position: relative;z-index: 1;}#sk-container-id-71 div.sk-parallel {display: flex;align-items: stretch;justify-content: center;background-color: white;position: relative;}#sk-container-id-71 div.sk-item::before, #sk-container-id-71 div.sk-parallel-item::before {content: \"\";position: absolute;border-left: 1px solid gray;box-sizing: border-box;top: 0;bottom: 0;left: 50%;z-index: -1;}#sk-container-id-71 div.sk-parallel-item {display: flex;flex-direction: column;z-index: 1;position: relative;background-color: white;}#sk-container-id-71 div.sk-parallel-item:first-child::after {align-self: flex-end;width: 50%;}#sk-container-id-71 div.sk-parallel-item:last-child::after {align-self: flex-start;width: 50%;}#sk-container-id-71 div.sk-parallel-item:only-child::after {width: 0;}#sk-container-id-71 div.sk-dashed-wrapped {border: 1px dashed gray;margin: 0 0.4em 0.5em 0.4em;box-sizing: border-box;padding-bottom: 0.4em;background-color: white;}#sk-container-id-71 div.sk-label label {font-family: monospace;font-weight: bold;display: inline-block;line-height: 1.2em;}#sk-container-id-71 div.sk-label-container {text-align: center;}#sk-container-id-71 div.sk-container {/* jupyter's `normalize.less` sets `[hidden] { display: none; }` but bootstrap.min.css set `[hidden] { display: none !important; }` so we also need the `!important` here to be able to override the default hidden behavior on the sphinx rendered scikit-learn.org. See: https://github.com/scikit-learn/scikit-learn/issues/21755 */display: inline-block !important;position: relative;}#sk-container-id-71 div.sk-text-repr-fallback {display: none;}</style><div id=\"sk-container-id-71\" class=\"sk-top-container\"><div class=\"sk-text-repr-fallback\"><pre>Pipeline(steps=[(&#x27;standardscaler&#x27;, StandardScaler()),\n",
       "                (&#x27;mlpregressor&#x27;, MLPRegressor(hidden_layer_sizes=(200, 200)))])</pre><b>In a Jupyter environment, please rerun this cell to show the HTML representation or trust the notebook. <br />On GitHub, the HTML representation is unable to render, please try loading this page with nbviewer.org.</b></div><div class=\"sk-container\" hidden><div class=\"sk-item sk-dashed-wrapped\"><div class=\"sk-label-container\"><div class=\"sk-label sk-toggleable\"><input class=\"sk-toggleable__control sk-hidden--visually\" id=\"sk-estimator-id-214\" type=\"checkbox\" ><label for=\"sk-estimator-id-214\" class=\"sk-toggleable__label sk-toggleable__label-arrow\">Pipeline</label><div class=\"sk-toggleable__content\"><pre>Pipeline(steps=[(&#x27;standardscaler&#x27;, StandardScaler()),\n",
       "                (&#x27;mlpregressor&#x27;, MLPRegressor(hidden_layer_sizes=(200, 200)))])</pre></div></div></div><div class=\"sk-serial\"><div class=\"sk-item\"><div class=\"sk-estimator sk-toggleable\"><input class=\"sk-toggleable__control sk-hidden--visually\" id=\"sk-estimator-id-215\" type=\"checkbox\" ><label for=\"sk-estimator-id-215\" class=\"sk-toggleable__label sk-toggleable__label-arrow\">StandardScaler</label><div class=\"sk-toggleable__content\"><pre>StandardScaler()</pre></div></div></div><div class=\"sk-item\"><div class=\"sk-estimator sk-toggleable\"><input class=\"sk-toggleable__control sk-hidden--visually\" id=\"sk-estimator-id-216\" type=\"checkbox\" ><label for=\"sk-estimator-id-216\" class=\"sk-toggleable__label sk-toggleable__label-arrow\">MLPRegressor</label><div class=\"sk-toggleable__content\"><pre>MLPRegressor(hidden_layer_sizes=(200, 200))</pre></div></div></div></div></div></div></div>"
      ],
      "text/plain": [
       "Pipeline(steps=[('standardscaler', StandardScaler()),\n",
       "                ('mlpregressor', MLPRegressor(hidden_layer_sizes=(200, 200)))])"
      ]
     },
     "execution_count": 626,
     "metadata": {},
     "output_type": "execute_result"
    }
   ],
   "source": [
    "from sklearn.svm import LinearSVR\n",
    "from sklearn.svm import SVR\n",
    "from sklearn.preprocessing import StandardScaler\n",
    "from sklearn.datasets import make_regression\n",
    "X_train, X_test, y_train, y_test =  train_test_split(X, y_xy,test_size=0.1)\n",
    "regr =make_pipeline(StandardScaler(),MLPRegressor(hidden_layer_sizes=(200,200,)))\n",
    "regr.fit(X_train, y_train)"
   ]
  },
  {
   "cell_type": "code",
   "execution_count": 627,
   "id": "a327156f",
   "metadata": {},
   "outputs": [
    {
     "data": {
      "text/plain": [
       "0.9846937690514823"
      ]
     },
     "execution_count": 627,
     "metadata": {},
     "output_type": "execute_result"
    }
   ],
   "source": [
    "regr.score(X_test, y_test)"
   ]
  },
  {
   "cell_type": "code",
   "execution_count": 628,
   "id": "30e0cf81",
   "metadata": {},
   "outputs": [
    {
     "data": {
      "text/plain": [
       "array([ -3,   1,  -3,   4,  -3,   5,   3,   4,   6,  -3,   3,   7,   2,\n",
       "        -7,   2,   0,  -1,   0,  -3,   7,   3,   4,   3,   3,   3,   3,\n",
       "         2,  -1,  -5,   5,  -2,  -8,   0,   1,   6,   8,   6,   3,  -4,\n",
       "        10,  -9,  -9,  -7, -10,  -5,   5,  10,   2,   3,   1,   7,   3,\n",
       "        -8,   6,   5, -10,   9,  -9,   3,  -6, -13,   8,   9,   2,  -1,\n",
       "        -2,  -1,  -7,  -1,   0,  -7,   4,   8,  -2,   8,   2,   2,   7,\n",
       "        -6, -11,   3,   4,   3,  -3,   4,  -1,  -1,   1,   1,  -1,  -4,\n",
       "        -2,  -1,   2,   0,   0,   1,  -4,  -3,  -2], dtype=int16)"
      ]
     },
     "execution_count": 628,
     "metadata": {},
     "output_type": "execute_result"
    }
   ],
   "source": [
    "((y_test-(regr.predict(X_test)))*1000).astype(np.int16)"
   ]
  },
  {
   "cell_type": "code",
   "execution_count": 629,
   "id": "a536b303",
   "metadata": {},
   "outputs": [
    {
     "data": {
      "text/plain": [
       "array([0.06226741])"
      ]
     },
     "execution_count": 629,
     "metadata": {},
     "output_type": "execute_result"
    }
   ],
   "source": [
    "regr.predict(np.array([[ 33,  76, 916]]))"
   ]
  },
  {
   "cell_type": "code",
   "execution_count": 630,
   "id": "34e2c50e",
   "metadata": {},
   "outputs": [
    {
     "data": {
      "text/plain": [
       "0.9862796612635811"
      ]
     },
     "execution_count": 630,
     "metadata": {},
     "output_type": "execute_result"
    }
   ],
   "source": [
    "X_train, X_test, y_train, y_test =  train_test_split(X, y_xy,test_size=0.5)\n",
    "regr =make_pipeline(StandardScaler(), SVR(C=0.1, epsilon=1e-2))\n",
    "regr.fit(X_train, y_train)\n",
    "regr.score(X_test, y_test)"
   ]
  },
  {
   "cell_type": "code",
   "execution_count": 631,
   "id": "f2ae8a2b",
   "metadata": {},
   "outputs": [
    {
     "data": {
      "text/plain": [
       "array([  3,  -7,   5,  -8,   2,  10,  13,   9,   3,   7,  -5,  -3,  -5,\n",
       "         1,  -2,  -2,   0, -10,   1,  -3,  -1,   0,   7,   2,   8,   0,\n",
       "         2,  -1,   4,  -2,  -5,  -1,  -9,  -5,   0,   0,   0,  -8,   2,\n",
       "         4,   1,   0,   9,  -9,   1,  -8,   0,   0,   2,   3,  -7,   6,\n",
       "         2,  -3,  -6,   6,  -2,   0,  -5,   2, -11,   2,   0,  -6,  -3,\n",
       "        -9,   1,  -7,   5,  10,   0,   0,   5,   2,  -3,  -3,   8,  -6,\n",
       "         1,  -4,  -1,   0,   4,  -5,   0,   1,   1,   6,   1,   1,   6,\n",
       "         0,   0,  -5,   9,   0,  -1,  -9,  -6,   1,   6,   2,   5,   9,\n",
       "        -6,  -1,  -3,   5,  -3,  -2,   2,   0,   4,   1,  -4,   0,  -2,\n",
       "        -3,  -6,  -2,   0,   6,   1,  -7,   0,  -4,   4,  -8,  -3,   2,\n",
       "         0,   6,   1,  -9,  -5,   5,   0,   1,   3,  -2,  -2,   1,  -3,\n",
       "        -3,  -8,   4,   5,  -5,   3,   0,   1,  14,  -4,   4,  -6,  -8,\n",
       "        -1,   4, -15,  -1,  -2,   1,   8, -21,   3,  -8,   0,  -6,  -8,\n",
       "         9,   0,  -7,   3,  -6,  -2,   0,   4,   1,   3,  -1, -12,   7,\n",
       "         0,  -2,  -3,  -2,  -9,   0,  -4,  -2,   1,   0,  -1,   0,   3,\n",
       "         8,  10,   0,   3,  10,   3,   1,   4, -11,  -6,  -2,   5,  -6,\n",
       "        -1,  20,  -4,   7,   3,   3,  -2,   1,  -2,   1,   0,  -7,  10,\n",
       "         3,   3,   3,   7,  -5,   1,  -1,   3,  -1,   4,  -4,  -8,   6,\n",
       "        -1,   4,  -2,  -4,   2,  -2,   0,   0,  -4,   8,   2,   2,  -4,\n",
       "        -1,   0,   0,  -5,  -6,   1,   1,   4,   2,   5,   0,   6,  10,\n",
       "         2,   4,   0,  10,   0,   4,  -6,  -2,   4, -11,  -7,   1,   4,\n",
       "         3,   3,   6,  -2,  -6,   2,  -2,   5,   1,  -7,  -2,  -2,  -1,\n",
       "        -5,  -3,  -1,  -2,  -1,   9,  -1,  -9,   7,   2,  -1,   5,  -3,\n",
       "         0,   3,   3,   0,   6,  -1,  -5,   7,  -2,   8,   5,  -2,  10,\n",
       "        -1,   3,  -9,  -4, -13,  -3,  12,   6,   1,   1,   9,   0,  -1,\n",
       "         4,  -5,  -4,  10,   2,  -2,  -7,  -4,  -3, -12,  12,   3,  -4,\n",
       "         0,  -4,  11,   5,   8,   7,   6,   4,   6,   0,   5,  -1,  -3,\n",
       "        10,  -8,   2,   1,  -1,   0,   6,   5, -14,  -1,   0,  10, -10,\n",
       "        -1,  -2,   1,   0,  -4,  -5,   4,   4,   3,  -2,   1,  -2,   9,\n",
       "        -3,  -9,  -3,  -1,  -4,  -8,   4,   0,  -2,  -1,  -2,   0,   0,\n",
       "         3,   2,  -5,  10,   6,   7,  -2,   1,  -2,   5,   2,  -3,  -3,\n",
       "         0,  -5,   0,  -6,  -2,  -5,   0, -11,  -5,   0,  -2,   7,   2,\n",
       "         0,  -2,   2,  -5,   5,  -3,  -3,   5,  12,   0,   0,   3,   1,\n",
       "        -7,  -1,   0,  -4, -18,  -5,  -4,  -4,  -4,  26,  -5,  -6,  -2,\n",
       "        -2,  -7,  -2,   1,   4,   7,   6,  -5,  -4,   0,   1,   2,   0,\n",
       "         3,   0,   0,   3,   7,   6,   8,   0,   4, -11,   0,   3,   1,\n",
       "        -3,   2,   0,  -1,   1,   3,   3,   7,   1,   1,   0,  -6,   0,\n",
       "         0,   8,   2,   2,  -6,   2,   6,  -6,   6,   4,  -1,  -3,  -8,\n",
       "         0,   0,   1,   6,   2,  -7], dtype=int16)"
      ]
     },
     "execution_count": 631,
     "metadata": {},
     "output_type": "execute_result"
    }
   ],
   "source": [
    "((y_test-(regr.predict(X_test)))*1000).astype(np.int16)"
   ]
  },
  {
   "cell_type": "code",
   "execution_count": 632,
   "id": "f3ede27c",
   "metadata": {},
   "outputs": [
    {
     "data": {
      "text/html": [
       "<style>#sk-container-id-72 {color: black;background-color: white;}#sk-container-id-72 pre{padding: 0;}#sk-container-id-72 div.sk-toggleable {background-color: white;}#sk-container-id-72 label.sk-toggleable__label {cursor: pointer;display: block;width: 100%;margin-bottom: 0;padding: 0.3em;box-sizing: border-box;text-align: center;}#sk-container-id-72 label.sk-toggleable__label-arrow:before {content: \"▸\";float: left;margin-right: 0.25em;color: #696969;}#sk-container-id-72 label.sk-toggleable__label-arrow:hover:before {color: black;}#sk-container-id-72 div.sk-estimator:hover label.sk-toggleable__label-arrow:before {color: black;}#sk-container-id-72 div.sk-toggleable__content {max-height: 0;max-width: 0;overflow: hidden;text-align: left;background-color: #f0f8ff;}#sk-container-id-72 div.sk-toggleable__content pre {margin: 0.2em;color: black;border-radius: 0.25em;background-color: #f0f8ff;}#sk-container-id-72 input.sk-toggleable__control:checked~div.sk-toggleable__content {max-height: 200px;max-width: 100%;overflow: auto;}#sk-container-id-72 input.sk-toggleable__control:checked~label.sk-toggleable__label-arrow:before {content: \"▾\";}#sk-container-id-72 div.sk-estimator input.sk-toggleable__control:checked~label.sk-toggleable__label {background-color: #d4ebff;}#sk-container-id-72 div.sk-label input.sk-toggleable__control:checked~label.sk-toggleable__label {background-color: #d4ebff;}#sk-container-id-72 input.sk-hidden--visually {border: 0;clip: rect(1px 1px 1px 1px);clip: rect(1px, 1px, 1px, 1px);height: 1px;margin: -1px;overflow: hidden;padding: 0;position: absolute;width: 1px;}#sk-container-id-72 div.sk-estimator {font-family: monospace;background-color: #f0f8ff;border: 1px dotted black;border-radius: 0.25em;box-sizing: border-box;margin-bottom: 0.5em;}#sk-container-id-72 div.sk-estimator:hover {background-color: #d4ebff;}#sk-container-id-72 div.sk-parallel-item::after {content: \"\";width: 100%;border-bottom: 1px solid gray;flex-grow: 1;}#sk-container-id-72 div.sk-label:hover label.sk-toggleable__label {background-color: #d4ebff;}#sk-container-id-72 div.sk-serial::before {content: \"\";position: absolute;border-left: 1px solid gray;box-sizing: border-box;top: 0;bottom: 0;left: 50%;z-index: 0;}#sk-container-id-72 div.sk-serial {display: flex;flex-direction: column;align-items: center;background-color: white;padding-right: 0.2em;padding-left: 0.2em;position: relative;}#sk-container-id-72 div.sk-item {position: relative;z-index: 1;}#sk-container-id-72 div.sk-parallel {display: flex;align-items: stretch;justify-content: center;background-color: white;position: relative;}#sk-container-id-72 div.sk-item::before, #sk-container-id-72 div.sk-parallel-item::before {content: \"\";position: absolute;border-left: 1px solid gray;box-sizing: border-box;top: 0;bottom: 0;left: 50%;z-index: -1;}#sk-container-id-72 div.sk-parallel-item {display: flex;flex-direction: column;z-index: 1;position: relative;background-color: white;}#sk-container-id-72 div.sk-parallel-item:first-child::after {align-self: flex-end;width: 50%;}#sk-container-id-72 div.sk-parallel-item:last-child::after {align-self: flex-start;width: 50%;}#sk-container-id-72 div.sk-parallel-item:only-child::after {width: 0;}#sk-container-id-72 div.sk-dashed-wrapped {border: 1px dashed gray;margin: 0 0.4em 0.5em 0.4em;box-sizing: border-box;padding-bottom: 0.4em;background-color: white;}#sk-container-id-72 div.sk-label label {font-family: monospace;font-weight: bold;display: inline-block;line-height: 1.2em;}#sk-container-id-72 div.sk-label-container {text-align: center;}#sk-container-id-72 div.sk-container {/* jupyter's `normalize.less` sets `[hidden] { display: none; }` but bootstrap.min.css set `[hidden] { display: none !important; }` so we also need the `!important` here to be able to override the default hidden behavior on the sphinx rendered scikit-learn.org. See: https://github.com/scikit-learn/scikit-learn/issues/21755 */display: inline-block !important;position: relative;}#sk-container-id-72 div.sk-text-repr-fallback {display: none;}</style><div id=\"sk-container-id-72\" class=\"sk-top-container\"><div class=\"sk-text-repr-fallback\"><pre>StackingRegressor(estimators=[(&#x27;ridge&#x27;, RidgeCV()),\n",
       "                              (&#x27;lasso&#x27;, LassoCV(random_state=42)),\n",
       "                              (&#x27;knr&#x27;,\n",
       "                               KNeighborsRegressor(metric=&#x27;euclidean&#x27;,\n",
       "                                                   n_neighbors=50))],\n",
       "                  final_estimator=Pipeline(steps=[(&#x27;standardscaler&#x27;,\n",
       "                                                   StandardScaler()),\n",
       "                                                  (&#x27;svr&#x27;,\n",
       "                                                   SVR(C=0.1, epsilon=0.01))]))</pre><b>In a Jupyter environment, please rerun this cell to show the HTML representation or trust the notebook. <br />On GitHub, the HTML representation is unable to render, please try loading this page with nbviewer.org.</b></div><div class=\"sk-container\" hidden><div class=\"sk-item sk-dashed-wrapped\"><div class=\"sk-label-container\"><div class=\"sk-label sk-toggleable\"><input class=\"sk-toggleable__control sk-hidden--visually\" id=\"sk-estimator-id-217\" type=\"checkbox\" ><label for=\"sk-estimator-id-217\" class=\"sk-toggleable__label sk-toggleable__label-arrow\">StackingRegressor</label><div class=\"sk-toggleable__content\"><pre>StackingRegressor(estimators=[(&#x27;ridge&#x27;, RidgeCV()),\n",
       "                              (&#x27;lasso&#x27;, LassoCV(random_state=42)),\n",
       "                              (&#x27;knr&#x27;,\n",
       "                               KNeighborsRegressor(metric=&#x27;euclidean&#x27;,\n",
       "                                                   n_neighbors=50))],\n",
       "                  final_estimator=Pipeline(steps=[(&#x27;standardscaler&#x27;,\n",
       "                                                   StandardScaler()),\n",
       "                                                  (&#x27;svr&#x27;,\n",
       "                                                   SVR(C=0.1, epsilon=0.01))]))</pre></div></div></div><div class=\"sk-serial\"><div class=\"sk-item\"><div class=\"sk-parallel\"><div class=\"sk-parallel-item\"><div class=\"sk-item\"><div class=\"sk-label-container\"><div class=\"sk-label sk-toggleable\"><label>ridge</label></div></div><div class=\"sk-serial\"><div class=\"sk-item\"><div class=\"sk-estimator sk-toggleable\"><input class=\"sk-toggleable__control sk-hidden--visually\" id=\"sk-estimator-id-218\" type=\"checkbox\" ><label for=\"sk-estimator-id-218\" class=\"sk-toggleable__label sk-toggleable__label-arrow\">RidgeCV</label><div class=\"sk-toggleable__content\"><pre>RidgeCV()</pre></div></div></div></div></div></div><div class=\"sk-parallel-item\"><div class=\"sk-item\"><div class=\"sk-label-container\"><div class=\"sk-label sk-toggleable\"><label>lasso</label></div></div><div class=\"sk-serial\"><div class=\"sk-item\"><div class=\"sk-estimator sk-toggleable\"><input class=\"sk-toggleable__control sk-hidden--visually\" id=\"sk-estimator-id-219\" type=\"checkbox\" ><label for=\"sk-estimator-id-219\" class=\"sk-toggleable__label sk-toggleable__label-arrow\">LassoCV</label><div class=\"sk-toggleable__content\"><pre>LassoCV(random_state=42)</pre></div></div></div></div></div></div><div class=\"sk-parallel-item\"><div class=\"sk-item\"><div class=\"sk-label-container\"><div class=\"sk-label sk-toggleable\"><label>knr</label></div></div><div class=\"sk-serial\"><div class=\"sk-item\"><div class=\"sk-estimator sk-toggleable\"><input class=\"sk-toggleable__control sk-hidden--visually\" id=\"sk-estimator-id-220\" type=\"checkbox\" ><label for=\"sk-estimator-id-220\" class=\"sk-toggleable__label sk-toggleable__label-arrow\">KNeighborsRegressor</label><div class=\"sk-toggleable__content\"><pre>KNeighborsRegressor(metric=&#x27;euclidean&#x27;, n_neighbors=50)</pre></div></div></div></div></div></div></div></div><div class=\"sk-item\"><div class=\"sk-parallel\"><div class=\"sk-parallel-item\"><div class=\"sk-item\"><div class=\"sk-label-container\"><div class=\"sk-label sk-toggleable\"><label>final_estimator</label></div></div><div class=\"sk-serial\"><div class=\"sk-item\"><div class=\"sk-serial\"><div class=\"sk-item\"><div class=\"sk-estimator sk-toggleable\"><input class=\"sk-toggleable__control sk-hidden--visually\" id=\"sk-estimator-id-221\" type=\"checkbox\" ><label for=\"sk-estimator-id-221\" class=\"sk-toggleable__label sk-toggleable__label-arrow\">StandardScaler</label><div class=\"sk-toggleable__content\"><pre>StandardScaler()</pre></div></div></div><div class=\"sk-item\"><div class=\"sk-estimator sk-toggleable\"><input class=\"sk-toggleable__control sk-hidden--visually\" id=\"sk-estimator-id-222\" type=\"checkbox\" ><label for=\"sk-estimator-id-222\" class=\"sk-toggleable__label sk-toggleable__label-arrow\">SVR</label><div class=\"sk-toggleable__content\"><pre>SVR(C=0.1, epsilon=0.01)</pre></div></div></div></div></div></div></div></div></div></div></div></div></div></div>"
      ],
      "text/plain": [
       "StackingRegressor(estimators=[('ridge', RidgeCV()),\n",
       "                              ('lasso', LassoCV(random_state=42)),\n",
       "                              ('knr',\n",
       "                               KNeighborsRegressor(metric='euclidean',\n",
       "                                                   n_neighbors=50))],\n",
       "                  final_estimator=Pipeline(steps=[('standardscaler',\n",
       "                                                   StandardScaler()),\n",
       "                                                  ('svr',\n",
       "                                                   SVR(C=0.1, epsilon=0.01))]))"
      ]
     },
     "execution_count": 632,
     "metadata": {},
     "output_type": "execute_result"
    }
   ],
   "source": [
    "from sklearn.linear_model import RidgeCV, LassoCV\n",
    "from sklearn.neighbors import KNeighborsRegressor\n",
    "estimators = [('ridge', RidgeCV()),\n",
    "              ('lasso', LassoCV(random_state=42)),\n",
    "              ('knr', KNeighborsRegressor(n_neighbors=50,\n",
    "                                          metric='euclidean'))]\n",
    "from sklearn.ensemble import GradientBoostingRegressor\n",
    "from sklearn.ensemble import StackingRegressor\n",
    "# final_estimator = GradientBoostingRegressor(\n",
    "#     n_estimators=25, subsample=0.5, min_samples_leaf=25, max_features=1,\n",
    "#     random_state=42)\n",
    "final_estimator = make_pipeline(StandardScaler(), SVR(C=0.1, epsilon=1e-2))\n",
    "reg = StackingRegressor(\n",
    "    estimators=estimators,\n",
    "    final_estimator=final_estimator)\n",
    "from sklearn.datasets import load_diabetes\n",
    "from sklearn.model_selection import train_test_split\n",
    "X_train, X_test, y_train, y_test = train_test_split(X, y_depth,\n",
    "                                                    random_state=42)\n",
    "reg.fit(X_train, y_train)"
   ]
  },
  {
   "cell_type": "code",
   "execution_count": 671,
   "id": "206dcc92",
   "metadata": {},
   "outputs": [],
   "source": [
    "y_x = np.load('robot_height.npy')[:,0]  \n",
    "# Training classifier\n",
    "reg1 = GradientBoostingRegressor(random_state=1)\n",
    "reg2 = RandomForestRegressor(random_state=1)\n",
    "reg3 = LinearRegression()\n",
    "reg4 = make_pipeline(StandardScaler(), SVR(C=2, epsilon=1e-3))\n",
    "ereg_x = VotingRegressor(estimators=[('gb', reg1),('rf',reg2),('svr',reg4),('lr', reg3)])\n",
    "X_train, X_test, y_train, y_test = train_test_split(X, y_x,\n",
    "                                                    random_state=42)\n",
    "ereg = ereg_x.fit(X_train, y_train)"
   ]
  },
  {
   "cell_type": "code",
   "execution_count": 672,
   "id": "ad4cbdf1",
   "metadata": {},
   "outputs": [
    {
     "data": {
      "text/plain": [
       "0.9916607477801285"
      ]
     },
     "execution_count": 672,
     "metadata": {},
     "output_type": "execute_result"
    }
   ],
   "source": [
    "ereg_x.score(X_test,y_test)"
   ]
  },
  {
   "cell_type": "code",
   "execution_count": 673,
   "id": "821a3b44",
   "metadata": {},
   "outputs": [],
   "source": [
    "y_x= np.load('robot_height.npy')[:,0]"
   ]
  },
  {
   "cell_type": "code",
   "execution_count": 674,
   "id": "b8eb799a",
   "metadata": {},
   "outputs": [
    {
     "data": {
      "text/plain": [
       "array([  4,  -1,  -1,   0,  -5,  -3,  -5,   0,  -5,  -8,  -4,  -1,   5,\n",
       "         1,   1,   3,   1,  -1,   0,   0,   1,   0,   5,   0,  -4,   6,\n",
       "         2,  -4,   2,  -3,   3,   0,   0,  -2,  -4,  -2,  -2,  -2,   5,\n",
       "        -8,   1,   2,   0,   0,   7,   7,  -2,   4,  -4,   1,   2,   7,\n",
       "         0,  -3,   1,   1,  -1,  -5,   1,   6,   5,   6,   2,   4,   4,\n",
       "        -3,  -3,   8,  -4,  -6,   1,   0,  -1,  -2,   0,   0,   0,   0,\n",
       "        -3,  -2,   5,  -5,   0,  -1,   3,   0,   1,  -4,   2,  -3,   7,\n",
       "         0, -10,  -5,  -1,   1,  -1,  -2,  -5,   0,   5,   2,   0,   2,\n",
       "         5,   0,   6,  -1,  -1,  -7,  -2,   5,  -4,   4,   9,  10,  -7,\n",
       "         3,   2,   0,  -2,   2,   0,   5,   5,   0,   4,  -1,   1,   1,\n",
       "         4,  -9,  -4,  -6,   0,   5,  10,  -3,  -2,  -3,  10,  -2,   0,\n",
       "        -8,  -4,  -7,   1,  -6,   5,  -1,  -2,  -4,   0,  -8,  -3,   8,\n",
       "        -1,  -1,   3,  -6,  -3,  -2,  -5,   3,   0,   1,  -2,  -1,   0,\n",
       "         0,  -3,   0,   0,  -4,  -2,  -2,   5,   0,  -3,   0,  -4,   6,\n",
       "        -2,  -4,   3,   5,   2,  -8,   8,   0,   1,   5,   3,   0,   8,\n",
       "        -1,   2,   0,   0,   4,  -6,  -7,  -5,   7,   5,   5,  -2,   2,\n",
       "         2,   7,   0,   3,   6,   2,  -7,  -2,  -7,   6,   4,   0,   0,\n",
       "         1,  -2,   0,   0,  -5,  -1,   3,  -6,   9,   4,  -2,   2,   1,\n",
       "        -3,   5,   0,   2,   1,   5,  -3,   1,  -3,  11,  11,  -8,  -2,\n",
       "         0,  -1,   0], dtype=int16)"
      ]
     },
     "execution_count": 674,
     "metadata": {},
     "output_type": "execute_result"
    }
   ],
   "source": [
    "((y_test-(ereg.predict(X_test)))*1000).astype(np.int16)"
   ]
  },
  {
   "cell_type": "code",
   "execution_count": 682,
   "id": "a46c2ace",
   "metadata": {},
   "outputs": [
    {
     "name": "stdout",
     "output_type": "stream",
     "text": [
      "Accuracy: 0.98631\n",
      "Accuracy: 0.99162\n",
      "Accuracy: 0.99040\n",
      "Accuracy: 0.99197\n"
     ]
    }
   ],
   "source": [
    "#查看各个模型表现\n",
    "X_train, X_test, y_train, y_test = train_test_split(X, y_x)\n",
    "from sklearn.model_selection import cross_val_score\n",
    "for reg, label in zip([reg3, reg4, reg1, ereg], \n",
    "                      ['gb', 'svr', 'ls', 'Ensemble(hard)']):\n",
    "    reg.fit(X_train,y_train)\n",
    "    print(\"Accuracy: %0.5f\" % (reg.score(X_test,y_test)))\n"
   ]
  },
  {
   "cell_type": "code",
   "execution_count": 683,
   "id": "61543fdb",
   "metadata": {},
   "outputs": [
    {
     "data": {
      "text/plain": [
       "(array([ 1.,  0.,  4.,  1.,  4.,  4., 10., 13., 24., 28., 22., 57., 18.,\n",
       "        24., 10., 14.,  6.,  6.,  2.,  2.]),\n",
       " array([-16.  , -14.55, -13.1 , -11.65, -10.2 ,  -8.75,  -7.3 ,  -5.85,\n",
       "         -4.4 ,  -2.95,  -1.5 ,  -0.05,   1.4 ,   2.85,   4.3 ,   5.75,\n",
       "          7.2 ,   8.65,  10.1 ,  11.55,  13.  ]),\n",
       " <BarContainer object of 20 artists>)"
      ]
     },
     "execution_count": 683,
     "metadata": {},
     "output_type": "execute_result"
    },
    {
     "data": {
      "image/png": "[encoded data removed]",
      "text/plain": [
       "<Figure size 640x480 with 1 Axes>"
      ]
     },
     "metadata": {},
     "output_type": "display_data"
    }
   ],
   "source": [
    "error_x = ((y_test-(ereg_x.predict(X_test)))*1000).astype(np.int16)\n",
    "plt.hist(error,bins=20)"
   ]
  },
  {
   "cell_type": "code",
   "execution_count": 686,
   "id": "1ebe6cb9",
   "metadata": {},
   "outputs": [],
   "source": [
    "y_y= np.load('robot_height.npy')[:,1] \n",
    "# Training classifier\n",
    "reg1 = GradientBoostingRegressor(random_state=1)\n",
    "reg2 = RandomForestRegressor(random_state=1)\n",
    "reg3 = LinearRegression()\n",
    "reg4 = make_pipeline(StandardScaler(), SVR(C=2, epsilon=1e-3))\n",
    "ereg_y = VotingRegressor(estimators=[('gb', reg1),('rf',reg2),('svr',reg4),('lr', reg3)])\n",
    "X_train, X_test, y_train, y_test = train_test_split(X, y_y,\n",
    "                                                    random_state=42)\n",
    "ereg_y = ereg_y.fit(X_train, y_train)"
   ]
  },
  {
   "cell_type": "code",
   "execution_count": 687,
   "id": "5430e4d3",
   "metadata": {},
   "outputs": [
    {
     "data": {
      "text/plain": [
       "(array([ 2.,  2.,  6.,  2., 10., 17.,  8., 15., 25., 20., 38., 41., 15.,\n",
       "        11., 22.,  7.,  3.,  4.,  1.,  1.]),\n",
       " array([-14.  , -12.65, -11.3 ,  -9.95,  -8.6 ,  -7.25,  -5.9 ,  -4.55,\n",
       "         -3.2 ,  -1.85,  -0.5 ,   0.85,   2.2 ,   3.55,   4.9 ,   6.25,\n",
       "          7.6 ,   8.95,  10.3 ,  11.65,  13.  ]),\n",
       " <BarContainer object of 20 artists>)"
      ]
     },
     "execution_count": 687,
     "metadata": {},
     "output_type": "execute_result"
    },
    {
     "data": {
      "image/png": "[encoded data removed]",
      "text/plain": [
       "<Figure size 640x480 with 1 Axes>"
      ]
     },
     "metadata": {},
     "output_type": "display_data"
    }
   ],
   "source": [
    "error_y = ((y_test-(ereg_y.predict(X_test)))*1000).astype(np.int16)\n",
    "plt.hist(error_y,bins=20)"
   ]
  },
  {
   "cell_type": "code",
   "execution_count": 688,
   "id": "5d9b4f6c",
   "metadata": {},
   "outputs": [],
   "source": [
    "y_z= np.load('robot_height.npy')[:,2] \n",
    "# Training classifier\n",
    "reg1 = GradientBoostingRegressor(random_state=1)\n",
    "reg2 = RandomForestRegressor(random_state=1)\n",
    "reg3 = LinearRegression()\n",
    "reg4 = make_pipeline(StandardScaler(), SVR(C=2, epsilon=1e-3))\n",
    "ereg_z = VotingRegressor(estimators=[('gb', reg1),('rf',reg2),('svr',reg4),('lr', reg3)])\n",
    "X_train, X_test, y_train, y_test = train_test_split(X, y_z,\n",
    "                                                    random_state=42)\n",
    "ereg_z = ereg_z.fit(X_train, y_train)"
   ]
  },
  {
   "cell_type": "code",
   "execution_count": 689,
   "id": "30518a54",
   "metadata": {},
   "outputs": [
    {
     "data": {
      "text/plain": [
       "(array([ 1.,  0.,  4.,  1.,  4.,  4., 10., 13., 24., 28., 22., 57., 18.,\n",
       "        24., 10., 14.,  6.,  6.,  2.,  2.]),\n",
       " array([-16.  , -14.55, -13.1 , -11.65, -10.2 ,  -8.75,  -7.3 ,  -5.85,\n",
       "         -4.4 ,  -2.95,  -1.5 ,  -0.05,   1.4 ,   2.85,   4.3 ,   5.75,\n",
       "          7.2 ,   8.65,  10.1 ,  11.55,  13.  ]),\n",
       " <BarContainer object of 20 artists>)"
      ]
     },
     "execution_count": 689,
     "metadata": {},
     "output_type": "execute_result"
    },
    {
     "data": {
      "image/png": "[encoded data removed]",
      "text/plain": [
       "<Figure size 640x480 with 1 Axes>"
      ]
     },
     "metadata": {},
     "output_type": "display_data"
    }
   ],
   "source": [
    "error_z = ((y_test-(ereg_z.predict(X_test)))*1000).astype(np.int16)\n",
    "plt.hist(error_z,bins=20)"
   ]
  },
  {
   "cell_type": "code",
   "execution_count": 690,
   "id": "6ad2699d",
   "metadata": {},
   "outputs": [],
   "source": [
    "error_dist = np.linalg.norm(np.vstack((error_x, error_y, error_z)).reshape(-1,3),axis=1)\n"
   ]
  },
  {
   "cell_type": "code",
   "execution_count": 691,
   "id": "2e783425",
   "metadata": {},
   "outputs": [
    {
     "data": {
      "text/plain": [
       "(array([12., 15., 19., 24., 17., 23., 27., 31., 20., 24.,  8., 14.,  5.,\n",
       "         6.,  1.,  2.,  1.,  0.,  0.,  1.]),\n",
       " array([ 1.        ,  1.92596106,  2.85192213,  3.77788319,  4.70384426,\n",
       "         5.62980532,  6.55576639,  7.48172745,  8.40768852,  9.33364958,\n",
       "        10.25961065, 11.18557171, 12.11153278, 13.03749384, 13.96345491,\n",
       "        14.88941597, 15.81537704, 16.7413381 , 17.66729917, 18.59326023,\n",
       "        19.5192213 ]),\n",
       " <BarContainer object of 20 artists>)"
      ]
     },
     "execution_count": 691,
     "metadata": {},
     "output_type": "execute_result"
    },
    {
     "data": {
      "image/png": "[encoded data removed]",
      "text/plain": [
       "<Figure size 640x480 with 1 Axes>"
      ]
     },
     "metadata": {},
     "output_type": "display_data"
    }
   ],
   "source": [
    "plt.hist(error_dist\n",
    "         ,bins=20)"
   ]
  },
  {
   "cell_type": "code",
   "execution_count": 692,
   "id": "f5d8938b",
   "metadata": {},
   "outputs": [
    {
     "data": {
      "text/plain": [
       "['ereg_x.pkl']"
      ]
     },
     "execution_count": 692,
     "metadata": {},
     "output_type": "execute_result"
    }
   ],
   "source": [
    "import joblib\n",
    "\n",
    "# Assuming you have trained a model and stored it in the variable 'model'\n",
    "# model = YourTrainedModel()\n",
    "\n",
    "# Save the model to a file\n",
    "joblib.dump(ereg_x, 'ereg_x.pkl')\n",
    "joblib.dump(ereg_y, 'ereg_y.pkl')\n",
    "joblib.dump(ereg_z, 'ereg_z.pkl')\n",
    "\n",
    "# # Later, to load the model from the file\n",
    "# loaded_model = joblib.load('your_model_filename.pkl')\n"
   ]
  },
  {
   "cell_type": "code",
   "execution_count": null,
   "id": "fee661ee",
   "metadata": {},
   "outputs": [],
   "source": []
  }
 ],
 "metadata": {
  "kernelspec": {
   "display_name": "wur_ds_health",
   "language": "python",
   "name": "wur_ds_health"
  },
  "language_info": {
   "codemirror_mode": {
    "name": "ipython",
    "version": 3
   },
   "file_extension": ".py",
   "mimetype": "text/x-python",
   "name": "python",
   "nbconvert_exporter": "python",
   "pygments_lexer": "ipython3",
   "version": "3.8.18"
  },
  "toc": {
   "base_numbering": 1,
   "nav_menu": {},
   "number_sections": true,
   "sideBar": true,
   "skip_h1_title": false,
   "title_cell": "Table of Contents",
   "title_sidebar": "Contents",
   "toc_cell": false,
   "toc_position": {},
   "toc_section_display": true,
   "toc_window_display": false
  },
  "varInspector": {
   "cols": {
    "lenName": 16,
    "lenType": 16,
    "lenVar": 40
   },
   "kernels_config": {
    "python": {
     "delete_cmd_postfix": "",
     "delete_cmd_prefix": "del ",
     "library": "var_list.py",
     "varRefreshCmd": "print(var_dic_list())"
    },
    "r": {
     "delete_cmd_postfix": ") ",
     "delete_cmd_prefix": "rm(",
     "library": "var_list.r",
     "varRefreshCmd": "cat(var_dic_list()) "
    }
   },
   "types_to_exclude": [
    "module",
    "function",
    "builtin_function_or_method",
    "instance",
    "_Feature"
   ],
   "window_display": false
  }
 },
 "nbformat": 4,
 "nbformat_minor": 5
}
